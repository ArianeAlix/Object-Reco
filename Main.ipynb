{
 "cells": [
  {
   "cell_type": "markdown",
   "metadata": {},
   "source": [
    "# Bird image classification\n",
    "### Ariane ALIX\n",
    "### 26/11/2019"
   ]
  },
  {
   "cell_type": "code",
   "execution_count": 1,
   "metadata": {},
   "outputs": [],
   "source": [
    "%load_ext autoreload\n",
    "\n",
    "%autoreload 2"
   ]
  },
  {
   "cell_type": "code",
   "execution_count": 4,
   "metadata": {},
   "outputs": [],
   "source": [
    "import time\n",
    "\n",
    "import numpy as np\n",
    "import torch.nn as nn\n",
    "import torch.optim as optim\n",
    "import torch\n",
    "import torchvision\n",
    "from torchvision import datasets\n",
    "from torch.autograd import Variable\n",
    "from tqdm import tqdm"
   ]
  },
  {
   "cell_type": "markdown",
   "metadata": {},
   "source": [
    "## 1. Experimenting simple models and ideas\n",
    "### 1.1 Initial model (given)"
   ]
  },
  {
   "cell_type": "code",
   "execution_count": 12,
   "metadata": {},
   "outputs": [
    {
     "name": "stdout",
     "output_type": "stream",
     "text": [
      "Using CPU\n"
     ]
    }
   ],
   "source": [
    "%run main.py --epochs=10"
   ]
  },
  {
   "cell_type": "code",
   "execution_count": 21,
   "metadata": {},
   "outputs": [
    {
     "name": "stdout",
     "output_type": "stream",
     "text": [
      "Train Epoch: 1 [0/1082 (0%)]\tLoss: 2.989828\n",
      "Train Epoch: 1 [640/1082 (59%)]\tLoss: 3.007554\n",
      "\n",
      "Validation set: Average loss: 0.0580, Accuracy: 5/103 (5%)\n",
      "Saved model to experiment/model_1.pth. You can run `python evaluate.py --model experiment/model_1.pth` to generate the Kaggle formatted csv file\n",
      "\n",
      "Train Epoch: 2 [0/1082 (0%)]\tLoss: 2.981745\n",
      "Train Epoch: 2 [640/1082 (59%)]\tLoss: 2.971583\n",
      "\n",
      "Validation set: Average loss: 0.0573, Accuracy: 4/103 (4%)\n",
      "Saved model to experiment/model_2.pth. You can run `python evaluate.py --model experiment/model_2.pth` to generate the Kaggle formatted csv file\n",
      "\n",
      "Train Epoch: 3 [0/1082 (0%)]\tLoss: 2.942628\n",
      "Train Epoch: 3 [640/1082 (59%)]\tLoss: 2.830668\n",
      "\n",
      "Validation set: Average loss: 0.0543, Accuracy: 17/103 (17%)\n",
      "Saved model to experiment/model_3.pth. You can run `python evaluate.py --model experiment/model_3.pth` to generate the Kaggle formatted csv file\n",
      "\n",
      "Train Epoch: 4 [0/1082 (0%)]\tLoss: 2.789883\n",
      "Train Epoch: 4 [640/1082 (59%)]\tLoss: 2.713978\n",
      "\n",
      "Validation set: Average loss: 0.0517, Accuracy: 13/103 (13%)\n",
      "Saved model to experiment/model_4.pth. You can run `python evaluate.py --model experiment/model_4.pth` to generate the Kaggle formatted csv file\n",
      "\n",
      "Train Epoch: 5 [0/1082 (0%)]\tLoss: 2.656481\n",
      "Train Epoch: 5 [640/1082 (59%)]\tLoss: 2.679133\n",
      "\n",
      "Validation set: Average loss: 0.0518, Accuracy: 18/103 (17%)\n",
      "Saved model to experiment/model_5.pth. You can run `python evaluate.py --model experiment/model_5.pth` to generate the Kaggle formatted csv file\n",
      "\n",
      "Train Epoch: 6 [0/1082 (0%)]\tLoss: 2.668342\n",
      "Train Epoch: 6 [640/1082 (59%)]\tLoss: 2.736262\n",
      "\n",
      "Validation set: Average loss: 0.0577, Accuracy: 9/103 (9%)\n",
      "Saved model to experiment/model_6.pth. You can run `python evaluate.py --model experiment/model_6.pth` to generate the Kaggle formatted csv file\n",
      "\n",
      "Train Epoch: 7 [0/1082 (0%)]\tLoss: 2.828056\n",
      "Train Epoch: 7 [640/1082 (59%)]\tLoss: 2.382013\n",
      "\n",
      "Validation set: Average loss: 0.0492, Accuracy: 28/103 (27%)\n",
      "Saved model to experiment/model_7.pth. You can run `python evaluate.py --model experiment/model_7.pth` to generate the Kaggle formatted csv file\n",
      "\n",
      "Train Epoch: 8 [0/1082 (0%)]\tLoss: 2.467760\n",
      "Train Epoch: 8 [640/1082 (59%)]\tLoss: 2.274601\n",
      "\n",
      "Validation set: Average loss: 0.0474, Accuracy: 28/103 (27%)\n",
      "Saved model to experiment/model_8.pth. You can run `python evaluate.py --model experiment/model_8.pth` to generate the Kaggle formatted csv file\n",
      "\n",
      "Train Epoch: 9 [0/1082 (0%)]\tLoss: 2.554936\n",
      "Train Epoch: 9 [640/1082 (59%)]\tLoss: 2.372739\n",
      "\n",
      "Validation set: Average loss: 0.0448, Accuracy: 32/103 (31%)\n",
      "Saved model to experiment/model_9.pth. You can run `python evaluate.py --model experiment/model_9.pth` to generate the Kaggle formatted csv file\n",
      "\n",
      "Train Epoch: 10 [0/1082 (0%)]\tLoss: 2.076187\n",
      "Train Epoch: 10 [640/1082 (59%)]\tLoss: 2.405241\n",
      "\n",
      "Validation set: Average loss: 0.0529, Accuracy: 14/103 (14%)\n",
      "Saved model to experiment/model_10.pth. You can run `python evaluate.py --model experiment/model_10.pth` to generate the Kaggle formatted csv file\n",
      "\n"
     ]
    }
   ],
   "source": [
    "for epoch in range(1, args.epochs + 1):\n",
    "    train(epoch)\n",
    "    validation()\n",
    "    model_file = args.experiment + '/model_' + str(epoch) + '.pth'\n",
    "    torch.save(model.state_dict(), model_file)\n",
    "    print('Saved model to ' + model_file + '. You can run `python evaluate.py --model ' + model_file + '` to generate the Kaggle formatted csv file\\n')"
   ]
  },
  {
   "cell_type": "markdown",
   "metadata": {},
   "source": [
    "### 1.2 New model based on animal (faces) recognition paper > Net2\n",
    "\n",
    "https://www.researchgate.net/publication/320162958_Animal_Recognition_System_Based_on_Convolutional_Neural_Network\n",
    "\n",
    "It is interesting because the original version was made to look at faces of animals (with some quite similar, like foxes and wolves) which have patterns of hair like birds with their feathers; moreover, the size of the filters were kept because their picture were 2 times less wide (32x32), but were approximately twice as zoomed on the zone of interest.\n",
    "\n",
    "Another interseting fact is the use of a dropout : it drops out outputs with a probability of 0.1 to avoid overfitting (it was 0.25 in their case but they has fewer classes, and we don't want to lose to much of one class if we are not lucky).\n",
    "\n",
    "We also added padding and changed the number of classes and final neurons in the last layers to stay proportionnal, and deleted the softmax at the end."
   ]
  },
  {
   "cell_type": "code",
   "execution_count": 21,
   "metadata": {},
   "outputs": [
    {
     "name": "stdout",
     "output_type": "stream",
     "text": [
      "Using CPU\n"
     ]
    }
   ],
   "source": [
    "%run main.py --epochs=10"
   ]
  },
  {
   "cell_type": "code",
   "execution_count": 23,
   "metadata": {},
   "outputs": [
    {
     "name": "stdout",
     "output_type": "stream",
     "text": [
      "Train Epoch: 1 [0/2164 (0%)]\tLoss: 3.009687\n",
      "Train Epoch: 1 [640/2164 (29%)]\tLoss: 2.938819\n",
      "Train Epoch: 1 [1280/2164 (59%)]\tLoss: 2.941729\n",
      "Train Epoch: 1 [1920/2164 (88%)]\tLoss: 2.958346\n",
      "\n",
      "Validation set: Average loss: 0.0553, Accuracy: 12/103 (12%)\n",
      "Saved model to experiment/model_1.pth. You can run `python evaluate.py --model experiment/model_1.pth` to generate the Kaggle formatted csv file\n",
      "\n",
      "Train Epoch: 2 [0/2164 (0%)]\tLoss: 2.730878\n",
      "Train Epoch: 2 [640/2164 (29%)]\tLoss: 2.781794\n",
      "Train Epoch: 2 [1280/2164 (59%)]\tLoss: 2.799252\n",
      "Train Epoch: 2 [1920/2164 (88%)]\tLoss: 2.523937\n",
      "\n",
      "Validation set: Average loss: 0.0534, Accuracy: 18/103 (17%)\n",
      "Saved model to experiment/model_2.pth. You can run `python evaluate.py --model experiment/model_2.pth` to generate the Kaggle formatted csv file\n",
      "\n",
      "Train Epoch: 3 [0/2164 (0%)]\tLoss: 2.781735\n",
      "Train Epoch: 3 [640/2164 (29%)]\tLoss: 2.570157\n",
      "Train Epoch: 3 [1280/2164 (59%)]\tLoss: 2.625766\n",
      "Train Epoch: 3 [1920/2164 (88%)]\tLoss: 2.545475\n",
      "\n",
      "Validation set: Average loss: 0.0478, Accuracy: 23/103 (22%)\n",
      "Saved model to experiment/model_3.pth. You can run `python evaluate.py --model experiment/model_3.pth` to generate the Kaggle formatted csv file\n",
      "\n",
      "Train Epoch: 4 [0/2164 (0%)]\tLoss: 2.403578\n",
      "Train Epoch: 4 [640/2164 (29%)]\tLoss: 2.294352\n",
      "Train Epoch: 4 [1280/2164 (59%)]\tLoss: 2.588709\n",
      "Train Epoch: 4 [1920/2164 (88%)]\tLoss: 2.157878\n",
      "\n",
      "Validation set: Average loss: 0.0444, Accuracy: 29/103 (28%)\n",
      "Saved model to experiment/model_4.pth. You can run `python evaluate.py --model experiment/model_4.pth` to generate the Kaggle formatted csv file\n",
      "\n",
      "Train Epoch: 5 [0/2164 (0%)]\tLoss: 1.960432\n",
      "Train Epoch: 5 [640/2164 (29%)]\tLoss: 2.424082\n",
      "Train Epoch: 5 [1280/2164 (59%)]\tLoss: 2.403861\n",
      "Train Epoch: 5 [1920/2164 (88%)]\tLoss: 2.142887\n",
      "\n",
      "Validation set: Average loss: 0.0472, Accuracy: 24/103 (23%)\n",
      "Saved model to experiment/model_5.pth. You can run `python evaluate.py --model experiment/model_5.pth` to generate the Kaggle formatted csv file\n",
      "\n",
      "Train Epoch: 6 [0/2164 (0%)]\tLoss: 2.340170\n",
      "Train Epoch: 6 [640/2164 (29%)]\tLoss: 1.973539\n",
      "Train Epoch: 6 [1280/2164 (59%)]\tLoss: 2.424167\n",
      "Train Epoch: 6 [1920/2164 (88%)]\tLoss: 2.375806\n",
      "\n",
      "Validation set: Average loss: 0.0432, Accuracy: 27/103 (26%)\n",
      "Saved model to experiment/model_6.pth. You can run `python evaluate.py --model experiment/model_6.pth` to generate the Kaggle formatted csv file\n",
      "\n",
      "Train Epoch: 7 [0/2164 (0%)]\tLoss: 1.768076\n",
      "Train Epoch: 7 [640/2164 (29%)]\tLoss: 1.987283\n",
      "Train Epoch: 7 [1280/2164 (59%)]\tLoss: 1.712073\n",
      "Train Epoch: 7 [1920/2164 (88%)]\tLoss: 2.268031\n",
      "\n",
      "Validation set: Average loss: 0.0433, Accuracy: 29/103 (28%)\n",
      "Saved model to experiment/model_7.pth. You can run `python evaluate.py --model experiment/model_7.pth` to generate the Kaggle formatted csv file\n",
      "\n",
      "Train Epoch: 8 [0/2164 (0%)]\tLoss: 2.010490\n",
      "Train Epoch: 8 [640/2164 (29%)]\tLoss: 2.136492\n",
      "Train Epoch: 8 [1280/2164 (59%)]\tLoss: 1.754956\n",
      "Train Epoch: 8 [1920/2164 (88%)]\tLoss: 2.050238\n",
      "\n",
      "Validation set: Average loss: 0.0441, Accuracy: 28/103 (27%)\n",
      "Saved model to experiment/model_8.pth. You can run `python evaluate.py --model experiment/model_8.pth` to generate the Kaggle formatted csv file\n",
      "\n",
      "Train Epoch: 9 [0/2164 (0%)]\tLoss: 2.037308\n",
      "Train Epoch: 9 [640/2164 (29%)]\tLoss: 1.816029\n",
      "Train Epoch: 9 [1280/2164 (59%)]\tLoss: 2.190270\n",
      "Train Epoch: 9 [1920/2164 (88%)]\tLoss: 2.062086\n",
      "\n",
      "Validation set: Average loss: 0.0462, Accuracy: 29/103 (28%)\n",
      "Saved model to experiment/model_9.pth. You can run `python evaluate.py --model experiment/model_9.pth` to generate the Kaggle formatted csv file\n",
      "\n",
      "Train Epoch: 10 [0/2164 (0%)]\tLoss: 1.842540\n",
      "Train Epoch: 10 [640/2164 (29%)]\tLoss: 1.719081\n",
      "Train Epoch: 10 [1280/2164 (59%)]\tLoss: 2.013179\n",
      "Train Epoch: 10 [1920/2164 (88%)]\tLoss: 1.614093\n",
      "\n",
      "Validation set: Average loss: 0.0458, Accuracy: 34/103 (33%)\n",
      "Saved model to experiment/model_10.pth. You can run `python evaluate.py --model experiment/model_10.pth` to generate the Kaggle formatted csv file\n",
      "\n"
     ]
    }
   ],
   "source": [
    "for epoch in range(1, args.epochs + 1):\n",
    "    train(epoch)\n",
    "    validation()\n",
    "    model_file = args.experiment + '/model_' + str(epoch) + '.pth'\n",
    "    torch.save(model.state_dict(), model_file)\n",
    "    print('Saved model to ' + model_file + '. You can run `python evaluate.py --model ' + model_file + '` to generate the Kaggle formatted csv file\\n')"
   ]
  },
  {
   "cell_type": "markdown",
   "metadata": {},
   "source": [
    "**_**\n",
    "We see better results, still not that good."
   ]
  },
  {
   "cell_type": "markdown",
   "metadata": {},
   "source": [
    "### 1.3 CPU vs local GPU\n",
    "\n",
    "*main.py* has been modified to choose as args if we want to use the CPU or GPU. We test the two on 5 epochs."
   ]
  },
  {
   "cell_type": "code",
   "execution_count": 18,
   "metadata": {},
   "outputs": [
    {
     "name": "stdout",
     "output_type": "stream",
     "text": [
      "Using CPU\n",
      "Train Epoch: 1 [0/2164 (0%)]\tLoss: 3.003148\n",
      "Train Epoch: 1 [640/2164 (29%)]\tLoss: 2.972824\n",
      "Train Epoch: 1 [1280/2164 (59%)]\tLoss: 2.909789\n",
      "Train Epoch: 1 [1920/2164 (88%)]\tLoss: 2.981264\n",
      "\n",
      "Validation set: Average loss: 0.0566, Accuracy: 7/103 (7%)\n",
      "Saved model to experiment/model_1.pth. You can run `python evaluate.py --model experiment/model_1.pth` to generate the Kaggle formatted csv file\n",
      "\n",
      "Train Epoch: 2 [0/2164 (0%)]\tLoss: 2.835259\n",
      "Train Epoch: 2 [640/2164 (29%)]\tLoss: 2.937826\n",
      "Train Epoch: 2 [1280/2164 (59%)]\tLoss: 2.675451\n",
      "Train Epoch: 2 [1920/2164 (88%)]\tLoss: 2.812554\n",
      "\n",
      "Validation set: Average loss: 0.0512, Accuracy: 13/103 (13%)\n",
      "Saved model to experiment/model_2.pth. You can run `python evaluate.py --model experiment/model_2.pth` to generate the Kaggle formatted csv file\n",
      "\n",
      "Train Epoch: 3 [0/2164 (0%)]\tLoss: 2.756968\n",
      "Train Epoch: 3 [640/2164 (29%)]\tLoss: 2.582169\n",
      "Train Epoch: 3 [1280/2164 (59%)]\tLoss: 2.540673\n",
      "Train Epoch: 3 [1920/2164 (88%)]\tLoss: 2.567905\n",
      "\n",
      "Validation set: Average loss: 0.0510, Accuracy: 20/103 (19%)\n",
      "Saved model to experiment/model_3.pth. You can run `python evaluate.py --model experiment/model_3.pth` to generate the Kaggle formatted csv file\n",
      "\n",
      "Train Epoch: 4 [0/2164 (0%)]\tLoss: 2.424804\n",
      "Train Epoch: 4 [640/2164 (29%)]\tLoss: 2.695248\n",
      "Train Epoch: 4 [1280/2164 (59%)]\tLoss: 2.467574\n",
      "Train Epoch: 4 [1920/2164 (88%)]\tLoss: 2.467476\n",
      "\n",
      "Validation set: Average loss: 0.0453, Accuracy: 29/103 (28%)\n",
      "Saved model to experiment/model_4.pth. You can run `python evaluate.py --model experiment/model_4.pth` to generate the Kaggle formatted csv file\n",
      "\n",
      "Train Epoch: 5 [0/2164 (0%)]\tLoss: 2.393374\n",
      "Train Epoch: 5 [640/2164 (29%)]\tLoss: 2.280413\n",
      "Train Epoch: 5 [1280/2164 (59%)]\tLoss: 2.252582\n",
      "Train Epoch: 5 [1920/2164 (88%)]\tLoss: 2.356467\n",
      "\n",
      "Validation set: Average loss: 0.0423, Accuracy: 31/103 (30%)\n",
      "Saved model to experiment/model_5.pth. You can run `python evaluate.py --model experiment/model_5.pth` to generate the Kaggle formatted csv file\n",
      "\n",
      "CPU- Time of execution : 195.77610898017883 s\n",
      "Using CPU\n",
      "Train Epoch: 1 [0/2164 (0%)]\tLoss: 3.003148\n",
      "Train Epoch: 1 [640/2164 (29%)]\tLoss: 2.972824\n",
      "Train Epoch: 1 [1280/2164 (59%)]\tLoss: 2.909789\n",
      "Train Epoch: 1 [1920/2164 (88%)]\tLoss: 2.981264\n",
      "\n",
      "Validation set: Average loss: 0.0566, Accuracy: 7/103 (7%)\n",
      "Saved model to experiment/model_1.pth. You can run `python evaluate.py --model experiment/model_1.pth` to generate the Kaggle formatted csv file\n",
      "\n",
      "Train Epoch: 2 [0/2164 (0%)]\tLoss: 2.835259\n",
      "Train Epoch: 2 [640/2164 (29%)]\tLoss: 2.937826\n",
      "Train Epoch: 2 [1280/2164 (59%)]\tLoss: 2.675451\n",
      "Train Epoch: 2 [1920/2164 (88%)]\tLoss: 2.812554\n",
      "\n",
      "Validation set: Average loss: 0.0512, Accuracy: 13/103 (13%)\n",
      "Saved model to experiment/model_2.pth. You can run `python evaluate.py --model experiment/model_2.pth` to generate the Kaggle formatted csv file\n",
      "\n",
      "Train Epoch: 3 [0/2164 (0%)]\tLoss: 2.756968\n",
      "Train Epoch: 3 [640/2164 (29%)]\tLoss: 2.582169\n",
      "Train Epoch: 3 [1280/2164 (59%)]\tLoss: 2.540673\n",
      "Train Epoch: 3 [1920/2164 (88%)]\tLoss: 2.567905\n",
      "\n",
      "Validation set: Average loss: 0.0510, Accuracy: 20/103 (19%)\n",
      "Saved model to experiment/model_3.pth. You can run `python evaluate.py --model experiment/model_3.pth` to generate the Kaggle formatted csv file\n",
      "\n",
      "Train Epoch: 4 [0/2164 (0%)]\tLoss: 2.424804\n",
      "Train Epoch: 4 [640/2164 (29%)]\tLoss: 2.695248\n",
      "Train Epoch: 4 [1280/2164 (59%)]\tLoss: 2.467574\n",
      "Train Epoch: 4 [1920/2164 (88%)]\tLoss: 2.467476\n",
      "\n",
      "Validation set: Average loss: 0.0453, Accuracy: 29/103 (28%)\n",
      "Saved model to experiment/model_4.pth. You can run `python evaluate.py --model experiment/model_4.pth` to generate the Kaggle formatted csv file\n",
      "\n",
      "Train Epoch: 5 [0/2164 (0%)]\tLoss: 2.393374\n",
      "Train Epoch: 5 [640/2164 (29%)]\tLoss: 2.280413\n",
      "Train Epoch: 5 [1280/2164 (59%)]\tLoss: 2.252582\n",
      "Train Epoch: 5 [1920/2164 (88%)]\tLoss: 2.356467\n",
      "\n",
      "Validation set: Average loss: 0.0423, Accuracy: 31/103 (30%)\n",
      "Saved model to experiment/model_5.pth. You can run `python evaluate.py --model experiment/model_5.pth` to generate the Kaggle formatted csv file\n",
      "\n",
      "CPU- Time of execution : 198.10046291351318 s\n"
     ]
    }
   ],
   "source": [
    "### CPU\n",
    "start=time.time()\n",
    "\n",
    "%run main.py --epochs=5 --cgpu='CPU'\n",
    "\n",
    "for epoch in range(1, args.epochs + 1):\n",
    "    train(epoch)\n",
    "    validation()\n",
    "    model_file = args.experiment + '/model_' + str(epoch) + '.pth'\n",
    "    torch.save(model.state_dict(), model_file)\n",
    "    print('Saved model to ' + model_file + '. You can run `python evaluate.py --model ' + model_file + '` to generate the Kaggle formatted csv file\\n')\n",
    "\n",
    "print('CPU- Time of execution :',time.time()-start,'s')    \n",
    "    \n",
    "    \n",
    "### GPU \n",
    "start=time.time()\n",
    "\n",
    "%run main.py --epochs=5 --cgpu='GPU'    \n",
    "    \n",
    "for epoch in range(1, args.epochs + 1):\n",
    "    train(epoch)\n",
    "    validation()\n",
    "    model_file = args.experiment + '/model_' + str(epoch) + '.pth'\n",
    "    torch.save(model.state_dict(), model_file)\n",
    "    print('Saved model to ' + model_file + '. You can run `python evaluate.py --model ' + model_file + '` to generate the Kaggle formatted csv file\\n')\n",
    "    \n",
    "print('GPU- Time of execution :',time.time()-start,'s') "
   ]
  },
  {
   "cell_type": "markdown",
   "metadata": {},
   "source": [
    "**_**\n",
    "Almost the same time. We will keep using the CPU."
   ]
  },
  {
   "cell_type": "markdown",
   "metadata": {},
   "source": [
    "## 2. Using pre-trained models\n",
    "### 2.1 Testing ResNet34 without any modification except changing the last layer \n",
    "So that it matches our case (20 classes). (Still using the expanded dataset with random modifications). We let all the layers free to evolve so we can fintune all the parameters of the net."
   ]
  },
  {
   "cell_type": "markdown",
   "metadata": {},
   "source": [
    "#### 2.1.1 Look for good learning rate"
   ]
  },
  {
   "cell_type": "code",
   "execution_count": 8,
   "metadata": {},
   "outputs": [
    {
     "name": "stdout",
     "output_type": "stream",
     "text": [
      "Using CPU\n"
     ]
    },
    {
     "data": {
      "application/vnd.jupyter.widget-view+json": {
       "model_id": "8d90995d98f54fdb8d60fc5726b9e0f0",
       "version_major": 2,
       "version_minor": 0
      },
      "text/html": [
       "<p>Failed to display Jupyter Widget of type <code>HBox</code>.</p>\n",
       "<p>\n",
       "  If you're reading this message in the Jupyter Notebook or JupyterLab Notebook, it may mean\n",
       "  that the widgets JavaScript is still loading. If this message persists, it\n",
       "  likely means that the widgets JavaScript library is either not installed or\n",
       "  not enabled. See the <a href=\"https://ipywidgets.readthedocs.io/en/stable/user_install.html\">Jupyter\n",
       "  Widgets Documentation</a> for setup instructions.\n",
       "</p>\n",
       "<p>\n",
       "  If you're reading this message in another frontend (for example, a static\n",
       "  rendering on GitHub or <a href=\"https://nbviewer.jupyter.org/\">NBViewer</a>),\n",
       "  it may mean that your frontend doesn't currently support widgets.\n",
       "</p>\n"
      ],
      "text/plain": [
       "HBox(children=(IntProgress(value=0), HTML(value='')))"
      ]
     },
     "metadata": {},
     "output_type": "display_data"
    },
    {
     "name": "stdout",
     "output_type": "stream",
     "text": [
      "Stopping early, the loss has diverged\n",
      "Learning rate search finished. See the graph with {finder_name}.plot()\n"
     ]
    },
    {
     "data": {
      "image/png": "[encoded data removed]",
      "text/plain": [
       "<Figure size 432x288 with 1 Axes>"
      ]
     },
     "metadata": {},
     "output_type": "display_data"
    }
   ],
   "source": [
    "from torch_lr_finder import LRFinder\n",
    "\n",
    "%run main.py --epochs=10 --cgpu='CPU'\n",
    "\n",
    "#training dataset\n",
    "training_set = torch.utils.data.DataLoader(\n",
    "    datasets.ImageFolder(args.data + '/train_images',\n",
    "                         transform=data_transforms), batch_size=args.batch_size, shuffle=True, num_workers=1)\n",
    "\n",
    "\n",
    "\n",
    "#Model\n",
    "model = torchvision.models.resnet34(pretrained=True)\n",
    "num_ftrs = model.fc.in_features\n",
    "model.fc = nn.Linear(num_ftrs, 20)\n",
    "#model.load_state_dict(torch.load('experiment/model_saved_res152.pth'))\n",
    "\n",
    "#Optimizer\n",
    "optimizer = optim.SGD(model.parameters(), lr=0.001, momentum=args.momentum)\n",
    "\n",
    "#Criterion\n",
    "criterion = nn.CrossEntropyLoss()\n",
    "\n",
    "lr_finder = LRFinder(model, optimizer, criterion)\n",
    "lr_finder.range_test(train_loader=training_set,val_loader=None, end_lr=100, num_iter=100)\n",
    "lr_finder.plot()"
   ]
  },
  {
   "cell_type": "code",
   "execution_count": 9,
   "metadata": {},
   "outputs": [
    {
     "name": "stdout",
     "output_type": "stream",
     "text": [
      "The smallest lost is : 2.31264224103441 reached for LR = 0.11220184543019632\n"
     ]
    }
   ],
   "source": [
    "lrs = lr_finder.history[\"lr\"]#avoid the first small values\n",
    "losses = lr_finder.history[\"loss\"]\n",
    "\n",
    "\n",
    "print('The smallest lost is :',np.min(losses),'reached for LR =',lrs[np.argmin(losses)])"
   ]
  },
  {
   "cell_type": "markdown",
   "metadata": {},
   "source": [
    "#### 2.1.2 Trying the ResNet34 with a 0.11 learning rate (found above)"
   ]
  },
  {
   "cell_type": "code",
   "execution_count": 11,
   "metadata": {},
   "outputs": [
    {
     "name": "stdout",
     "output_type": "stream",
     "text": [
      "Using CPU\n",
      "Train Epoch: 1 [0/1082 (0%)]\tLoss: 3.519068\n",
      "Train Epoch: 1 [640/1082 (59%)]\tLoss: 3.413718\n",
      "\n",
      "Validation set: Average loss: 6.0332, Accuracy: 7/103 (7%)\n",
      "Saved model to experiment/model_1.pth. You can run `python evaluate.py --model experiment/model_1.pth` to generate the Kaggle formatted csv file\n",
      "\n",
      "Train Epoch: 2 [0/1082 (0%)]\tLoss: 2.925918\n",
      "Train Epoch: 2 [640/1082 (59%)]\tLoss: 2.799205\n",
      "\n",
      "Validation set: Average loss: 0.0518, Accuracy: 14/103 (14%)\n",
      "Saved model to experiment/model_2.pth. You can run `python evaluate.py --model experiment/model_2.pth` to generate the Kaggle formatted csv file\n",
      "\n",
      "Train Epoch: 3 [0/1082 (0%)]\tLoss: 2.726650\n",
      "Train Epoch: 3 [640/1082 (59%)]\tLoss: 2.678522\n",
      "\n",
      "Validation set: Average loss: 0.0519, Accuracy: 17/103 (17%)\n",
      "Saved model to experiment/model_3.pth. You can run `python evaluate.py --model experiment/model_3.pth` to generate the Kaggle formatted csv file\n",
      "\n",
      "Train Epoch: 4 [0/1082 (0%)]\tLoss: 2.507774\n",
      "Train Epoch: 4 [640/1082 (59%)]\tLoss: 2.305955\n",
      "\n",
      "Validation set: Average loss: 0.0447, Accuracy: 22/103 (21%)\n",
      "Saved model to experiment/model_4.pth. You can run `python evaluate.py --model experiment/model_4.pth` to generate the Kaggle formatted csv file\n",
      "\n",
      "Train Epoch: 5 [0/1082 (0%)]\tLoss: 2.065471\n",
      "Train Epoch: 5 [640/1082 (59%)]\tLoss: 2.181704\n",
      "\n",
      "Validation set: Average loss: 0.0457, Accuracy: 35/103 (34%)\n",
      "Saved model to experiment/model_5.pth. You can run `python evaluate.py --model experiment/model_5.pth` to generate the Kaggle formatted csv file\n",
      "\n",
      "Train Epoch: 6 [0/1082 (0%)]\tLoss: 1.516092\n",
      "Train Epoch: 6 [640/1082 (59%)]\tLoss: 1.657050\n",
      "\n",
      "Validation set: Average loss: 0.0465, Accuracy: 32/103 (31%)\n",
      "Saved model to experiment/model_6.pth. You can run `python evaluate.py --model experiment/model_6.pth` to generate the Kaggle formatted csv file\n",
      "\n",
      "Train Epoch: 7 [0/1082 (0%)]\tLoss: 1.514611\n",
      "Train Epoch: 7 [640/1082 (59%)]\tLoss: 1.373572\n",
      "\n",
      "Validation set: Average loss: 0.0399, Accuracy: 41/103 (40%)\n",
      "Saved model to experiment/model_7.pth. You can run `python evaluate.py --model experiment/model_7.pth` to generate the Kaggle formatted csv file\n",
      "\n",
      "Train Epoch: 8 [0/1082 (0%)]\tLoss: 1.066330\n",
      "Train Epoch: 8 [640/1082 (59%)]\tLoss: 1.095245\n",
      "\n",
      "Validation set: Average loss: 0.0547, Accuracy: 27/103 (26%)\n",
      "Saved model to experiment/model_8.pth. You can run `python evaluate.py --model experiment/model_8.pth` to generate the Kaggle formatted csv file\n",
      "\n",
      "Train Epoch: 9 [0/1082 (0%)]\tLoss: 0.953135\n",
      "Train Epoch: 9 [640/1082 (59%)]\tLoss: 1.786842\n",
      "\n",
      "Validation set: Average loss: 0.0452, Accuracy: 40/103 (39%)\n",
      "Saved model to experiment/model_9.pth. You can run `python evaluate.py --model experiment/model_9.pth` to generate the Kaggle formatted csv file\n",
      "\n",
      "Train Epoch: 10 [0/1082 (0%)]\tLoss: 0.874453\n",
      "Train Epoch: 10 [640/1082 (59%)]\tLoss: 1.363203\n",
      "\n",
      "Validation set: Average loss: 0.0520, Accuracy: 45/103 (44%)\n",
      "Saved model to experiment/model_10.pth. You can run `python evaluate.py --model experiment/model_10.pth` to generate the Kaggle formatted csv file\n",
      "\n",
      "CPU- Time of execution : 818.7175388336182 s\n"
     ]
    }
   ],
   "source": [
    "start=time.time()\n",
    "%run main.py --epochs=10 --cgpu='CPU' --lr=0.11\n",
    "\n",
    "for epoch in range(1, args.epochs + 1):\n",
    "    train(epoch)\n",
    "    validation()\n",
    "    model_file = args.experiment + '/model_' + str(epoch) + '.pth'\n",
    "    torch.save(model.state_dict(), model_file)\n",
    "    print('Saved model to ' + model_file + '. You can run `python evaluate.py --model ' + model_file + '` to generate the Kaggle formatted csv file\\n')\n",
    "\n",
    "print('CPU- Time of execution :',time.time()-start,'s')   "
   ]
  },
  {
   "cell_type": "markdown",
   "metadata": {},
   "source": [
    "#### 2.1.3 Keeping the best training and looking again for the best LR"
   ]
  },
  {
   "cell_type": "code",
   "execution_count": 13,
   "metadata": {},
   "outputs": [
    {
     "data": {
      "application/vnd.jupyter.widget-view+json": {
       "model_id": "fbe4ec9fbf8c4812a34e0160c2a84fcd",
       "version_major": 2,
       "version_minor": 0
      },
      "text/html": [
       "<p>Failed to display Jupyter Widget of type <code>HBox</code>.</p>\n",
       "<p>\n",
       "  If you're reading this message in the Jupyter Notebook or JupyterLab Notebook, it may mean\n",
       "  that the widgets JavaScript is still loading. If this message persists, it\n",
       "  likely means that the widgets JavaScript library is either not installed or\n",
       "  not enabled. See the <a href=\"https://ipywidgets.readthedocs.io/en/stable/user_install.html\">Jupyter\n",
       "  Widgets Documentation</a> for setup instructions.\n",
       "</p>\n",
       "<p>\n",
       "  If you're reading this message in another frontend (for example, a static\n",
       "  rendering on GitHub or <a href=\"https://nbviewer.jupyter.org/\">NBViewer</a>),\n",
       "  it may mean that your frontend doesn't currently support widgets.\n",
       "</p>\n"
      ],
      "text/plain": [
       "HBox(children=(IntProgress(value=0), HTML(value='')))"
      ]
     },
     "metadata": {},
     "output_type": "display_data"
    },
    {
     "name": "stdout",
     "output_type": "stream",
     "text": [
      "Stopping early, the loss has diverged\n",
      "Learning rate search finished. See the graph with {finder_name}.plot()\n"
     ]
    },
    {
     "data": {
      "image/png": "[encoded data removed]",
      "text/plain": [
       "<Figure size 432x288 with 1 Axes>"
      ]
     },
     "metadata": {},
     "output_type": "display_data"
    }
   ],
   "source": [
    "from torch_lr_finder import LRFinder\n",
    "\n",
    "\n",
    "#training dataset\n",
    "training_set = torch.utils.data.DataLoader(\n",
    "    datasets.ImageFolder(args.data + '/train_images',\n",
    "                         transform=data_transforms), batch_size=args.batch_size, shuffle=True, num_workers=1)\n",
    "\n",
    "\n",
    "#Model\n",
    "model = torchvision.models.resnet34(pretrained=True)\n",
    "num_ftrs = model.fc.in_features\n",
    "model.fc = nn.Linear(num_ftrs, 20)\n",
    "model.load_state_dict(torch.load('experiment/model_res34_step1.pth'))\n",
    "\n",
    "#Optimizer\n",
    "optimizer = optim.SGD(model.parameters(), lr=0.001, momentum=args.momentum)\n",
    "\n",
    "#Criterion\n",
    "criterion = nn.CrossEntropyLoss()\n",
    "\n",
    "lr_finder = LRFinder(model, optimizer, criterion)\n",
    "lr_finder.range_test(train_loader=training_set,val_loader=None, end_lr=100, num_iter=100)\n",
    "lr_finder.plot()"
   ]
  },
  {
   "cell_type": "code",
   "execution_count": 14,
   "metadata": {},
   "outputs": [
    {
     "name": "stdout",
     "output_type": "stream",
     "text": [
      "The smallest lost is : 0.44053973368943405 reached for LR = 0.14125375446227542\n"
     ]
    }
   ],
   "source": [
    "lrs = lr_finder.history[\"lr\"]#avoid the first small values\n",
    "losses = lr_finder.history[\"loss\"]\n",
    "\n",
    "print('The smallest lost is :',np.min(losses),'reached for LR =',lrs[np.argmin(losses)])"
   ]
  },
  {
   "cell_type": "markdown",
   "metadata": {},
   "source": [
    "#### 2.1.4  Relaunching the ResNet34 from the best training saved with a 0.11 learning rate."
   ]
  },
  {
   "cell_type": "code",
   "execution_count": 18,
   "metadata": {},
   "outputs": [
    {
     "name": "stdout",
     "output_type": "stream",
     "text": [
      "Using CPU\n",
      "Train Epoch: 1 [0/1082 (0%)]\tLoss: 0.690365\n",
      "Train Epoch: 1 [640/1082 (59%)]\tLoss: 0.960003\n",
      "\\Training set: ccuracy: 801/1082\n",
      "\n",
      "Validation set: Average loss: 0.0605, Accuracy: 45/103 (44%)\n",
      "Saved model to experiment/model_1.pth. You can run `python evaluate.py --model experiment/model_1.pth` to generate the Kaggle formatted csv file\n",
      "\n",
      "Train Epoch: 2 [0/1082 (0%)]\tLoss: 0.753638\n",
      "Train Epoch: 2 [640/1082 (59%)]\tLoss: 0.531909\n",
      "\\Training set: ccuracy: 807/1082\n",
      "\n",
      "Validation set: Average loss: 0.0575, Accuracy: 36/103 (35%)\n",
      "Saved model to experiment/model_2.pth. You can run `python evaluate.py --model experiment/model_2.pth` to generate the Kaggle formatted csv file\n",
      "\n",
      "Train Epoch: 3 [0/1082 (0%)]\tLoss: 0.591375\n",
      "Train Epoch: 3 [640/1082 (59%)]\tLoss: 0.299660\n",
      "\\Training set: ccuracy: 922/1082\n",
      "\n",
      "Validation set: Average loss: 0.0498, Accuracy: 47/103 (46%)\n",
      "Saved model to experiment/model_3.pth. You can run `python evaluate.py --model experiment/model_3.pth` to generate the Kaggle formatted csv file\n",
      "\n",
      "Train Epoch: 4 [0/1082 (0%)]\tLoss: 0.179397\n",
      "Train Epoch: 4 [640/1082 (59%)]\tLoss: 0.656621\n",
      "\\Training set: ccuracy: 900/1082\n",
      "\n",
      "Validation set: Average loss: 0.0873, Accuracy: 11/103 (11%)\n",
      "Saved model to experiment/model_4.pth. You can run `python evaluate.py --model experiment/model_4.pth` to generate the Kaggle formatted csv file\n",
      "\n",
      "Train Epoch: 5 [0/1082 (0%)]\tLoss: 0.810789\n",
      "Train Epoch: 5 [640/1082 (59%)]\tLoss: 0.540746\n",
      "\\Training set: ccuracy: 837/1082\n",
      "\n",
      "Validation set: Average loss: 0.0665, Accuracy: 33/103 (32%)\n",
      "Saved model to experiment/model_5.pth. You can run `python evaluate.py --model experiment/model_5.pth` to generate the Kaggle formatted csv file\n",
      "\n",
      "Train Epoch: 6 [0/1082 (0%)]\tLoss: 0.452974\n",
      "Train Epoch: 6 [640/1082 (59%)]\tLoss: 0.189057\n",
      "\\Training set: ccuracy: 974/1082\n",
      "\n",
      "Validation set: Average loss: 0.0573, Accuracy: 44/103 (43%)\n",
      "Saved model to experiment/model_6.pth. You can run `python evaluate.py --model experiment/model_6.pth` to generate the Kaggle formatted csv file\n",
      "\n",
      "Train Epoch: 7 [0/1082 (0%)]\tLoss: 0.078203\n",
      "Train Epoch: 7 [640/1082 (59%)]\tLoss: 0.174537\n",
      "\\Training set: ccuracy: 1047/1082\n",
      "\n",
      "Validation set: Average loss: 0.0614, Accuracy: 46/103 (45%)\n",
      "Saved model to experiment/model_7.pth. You can run `python evaluate.py --model experiment/model_7.pth` to generate the Kaggle formatted csv file\n",
      "\n",
      "Train Epoch: 8 [0/1082 (0%)]\tLoss: 0.022700\n",
      "Train Epoch: 8 [640/1082 (59%)]\tLoss: 0.062553\n",
      "\\Training set: ccuracy: 1062/1082\n",
      "\n",
      "Validation set: Average loss: 0.0609, Accuracy: 44/103 (43%)\n",
      "Saved model to experiment/model_8.pth. You can run `python evaluate.py --model experiment/model_8.pth` to generate the Kaggle formatted csv file\n",
      "\n",
      "Train Epoch: 9 [0/1082 (0%)]\tLoss: 0.010092\n",
      "Train Epoch: 9 [640/1082 (59%)]\tLoss: 0.160222\n",
      "\\Training set: ccuracy: 1052/1082\n",
      "\n",
      "Validation set: Average loss: 0.0805, Accuracy: 39/103 (38%)\n",
      "Saved model to experiment/model_9.pth. You can run `python evaluate.py --model experiment/model_9.pth` to generate the Kaggle formatted csv file\n",
      "\n",
      "Train Epoch: 10 [0/1082 (0%)]\tLoss: 0.026276\n",
      "Train Epoch: 10 [640/1082 (59%)]\tLoss: 0.038755\n",
      "\\Training set: ccuracy: 1067/1082\n",
      "\n",
      "Validation set: Average loss: 0.0669, Accuracy: 48/103 (47%)\n",
      "Saved model to experiment/model_10.pth. You can run `python evaluate.py --model experiment/model_10.pth` to generate the Kaggle formatted csv file\n",
      "\n",
      "Train Epoch: 11 [0/1082 (0%)]\tLoss: 0.020678\n",
      "Train Epoch: 11 [640/1082 (59%)]\tLoss: 0.074795\n",
      "\\Training set: ccuracy: 1064/1082\n",
      "\n",
      "Validation set: Average loss: 0.0625, Accuracy: 47/103 (46%)\n",
      "Saved model to experiment/model_11.pth. You can run `python evaluate.py --model experiment/model_11.pth` to generate the Kaggle formatted csv file\n",
      "\n",
      "Train Epoch: 12 [0/1082 (0%)]\tLoss: 0.017209\n",
      "Train Epoch: 12 [640/1082 (59%)]\tLoss: 0.243959\n",
      "\\Training set: ccuracy: 1064/1082\n",
      "\n",
      "Validation set: Average loss: 0.0669, Accuracy: 41/103 (40%)\n",
      "Saved model to experiment/model_12.pth. You can run `python evaluate.py --model experiment/model_12.pth` to generate the Kaggle formatted csv file\n",
      "\n",
      "Train Epoch: 13 [0/1082 (0%)]\tLoss: 0.031053\n",
      "Train Epoch: 13 [640/1082 (59%)]\tLoss: 0.010792\n",
      "\\Training set: ccuracy: 1062/1082\n",
      "\n",
      "Validation set: Average loss: 0.0718, Accuracy: 40/103 (39%)\n",
      "Saved model to experiment/model_13.pth. You can run `python evaluate.py --model experiment/model_13.pth` to generate the Kaggle formatted csv file\n",
      "\n",
      "Train Epoch: 14 [0/1082 (0%)]\tLoss: 0.195798\n",
      "Train Epoch: 14 [640/1082 (59%)]\tLoss: 0.192683\n",
      "\\Training set: ccuracy: 1046/1082\n",
      "\n",
      "Validation set: Average loss: 0.0867, Accuracy: 39/103 (38%)\n",
      "Saved model to experiment/model_14.pth. You can run `python evaluate.py --model experiment/model_14.pth` to generate the Kaggle formatted csv file\n",
      "\n",
      "Train Epoch: 15 [0/1082 (0%)]\tLoss: 0.134289\n",
      "Train Epoch: 15 [640/1082 (59%)]\tLoss: 0.136380\n",
      "\\Training set: ccuracy: 1039/1082\n",
      "\n",
      "Validation set: Average loss: 0.0648, Accuracy: 44/103 (43%)\n",
      "Saved model to experiment/model_15.pth. You can run `python evaluate.py --model experiment/model_15.pth` to generate the Kaggle formatted csv file\n",
      "\n",
      "Train Epoch: 16 [0/1082 (0%)]\tLoss: 0.041596\n",
      "Train Epoch: 16 [640/1082 (59%)]\tLoss: 0.086557\n",
      "\\Training set: ccuracy: 1062/1082\n",
      "\n",
      "Validation set: Average loss: 0.0604, Accuracy: 48/103 (47%)\n",
      "Saved model to experiment/model_16.pth. You can run `python evaluate.py --model experiment/model_16.pth` to generate the Kaggle formatted csv file\n",
      "\n",
      "Train Epoch: 17 [0/1082 (0%)]\tLoss: 0.073077\n",
      "Train Epoch: 17 [640/1082 (59%)]\tLoss: 0.039339\n",
      "\\Training set: ccuracy: 1047/1082\n",
      "\n",
      "Validation set: Average loss: 0.0689, Accuracy: 41/103 (40%)\n",
      "Saved model to experiment/model_17.pth. You can run `python evaluate.py --model experiment/model_17.pth` to generate the Kaggle formatted csv file\n",
      "\n",
      "Train Epoch: 18 [0/1082 (0%)]\tLoss: 0.084622\n",
      "Train Epoch: 18 [640/1082 (59%)]\tLoss: 0.025142\n",
      "\\Training set: ccuracy: 1057/1082\n",
      "\n",
      "Validation set: Average loss: 0.0655, Accuracy: 45/103 (44%)\n",
      "Saved model to experiment/model_18.pth. You can run `python evaluate.py --model experiment/model_18.pth` to generate the Kaggle formatted csv file\n",
      "\n",
      "Train Epoch: 19 [0/1082 (0%)]\tLoss: 0.004786\n",
      "Train Epoch: 19 [640/1082 (59%)]\tLoss: 0.016190\n",
      "\\Training set: ccuracy: 1072/1082\n",
      "\n",
      "Validation set: Average loss: 0.0557, Accuracy: 49/103 (48%)\n",
      "Saved model to experiment/model_19.pth. You can run `python evaluate.py --model experiment/model_19.pth` to generate the Kaggle formatted csv file\n",
      "\n",
      "Train Epoch: 20 [0/1082 (0%)]\tLoss: 0.014221\n",
      "Train Epoch: 20 [640/1082 (59%)]\tLoss: 0.004273\n",
      "\\Training set: ccuracy: 1081/1082\n",
      "\n",
      "Validation set: Average loss: 0.0595, Accuracy: 49/103 (48%)\n",
      "Saved model to experiment/model_20.pth. You can run `python evaluate.py --model experiment/model_20.pth` to generate the Kaggle formatted csv file\n",
      "\n",
      "Train Epoch: 21 [0/1082 (0%)]\tLoss: 0.003539\n",
      "Train Epoch: 21 [640/1082 (59%)]\tLoss: 0.001497\n",
      "\\Training set: ccuracy: 1082/1082\n",
      "\n",
      "Validation set: Average loss: 0.0635, Accuracy: 50/103 (49%)\n",
      "Saved model to experiment/model_21.pth. You can run `python evaluate.py --model experiment/model_21.pth` to generate the Kaggle formatted csv file\n",
      "\n",
      "Train Epoch: 22 [0/1082 (0%)]\tLoss: 0.001204\n",
      "Train Epoch: 22 [640/1082 (59%)]\tLoss: 0.001427\n",
      "\\Training set: ccuracy: 1081/1082\n",
      "\n",
      "Validation set: Average loss: 0.0609, Accuracy: 50/103 (49%)\n",
      "Saved model to experiment/model_22.pth. You can run `python evaluate.py --model experiment/model_22.pth` to generate the Kaggle formatted csv file\n",
      "\n",
      "Train Epoch: 23 [0/1082 (0%)]\tLoss: 0.000849\n",
      "Train Epoch: 23 [640/1082 (59%)]\tLoss: 0.001418\n",
      "\\Training set: ccuracy: 1081/1082\n",
      "\n",
      "Validation set: Average loss: 0.0642, Accuracy: 48/103 (47%)\n",
      "Saved model to experiment/model_23.pth. You can run `python evaluate.py --model experiment/model_23.pth` to generate the Kaggle formatted csv file\n",
      "\n",
      "Train Epoch: 24 [0/1082 (0%)]\tLoss: 0.001782\n",
      "Train Epoch: 24 [640/1082 (59%)]\tLoss: 0.000455\n",
      "\\Training set: ccuracy: 1082/1082\n",
      "\n",
      "Validation set: Average loss: 0.0646, Accuracy: 48/103 (47%)\n",
      "Saved model to experiment/model_24.pth. You can run `python evaluate.py --model experiment/model_24.pth` to generate the Kaggle formatted csv file\n",
      "\n",
      "Train Epoch: 25 [0/1082 (0%)]\tLoss: 0.000424\n",
      "Train Epoch: 25 [640/1082 (59%)]\tLoss: 0.000450\n",
      "\\Training set: ccuracy: 1082/1082\n",
      "\n",
      "Validation set: Average loss: 0.0647, Accuracy: 46/103 (45%)\n",
      "Saved model to experiment/model_25.pth. You can run `python evaluate.py --model experiment/model_25.pth` to generate the Kaggle formatted csv file\n",
      "\n"
     ]
    },
    {
     "name": "stdout",
     "output_type": "stream",
     "text": [
      "Train Epoch: 26 [0/1082 (0%)]\tLoss: 0.000916\n",
      "Train Epoch: 26 [640/1082 (59%)]\tLoss: 0.000406\n",
      "\\Training set: ccuracy: 1082/1082\n",
      "\n",
      "Validation set: Average loss: 0.0661, Accuracy: 49/103 (48%)\n",
      "Saved model to experiment/model_26.pth. You can run `python evaluate.py --model experiment/model_26.pth` to generate the Kaggle formatted csv file\n",
      "\n",
      "Train Epoch: 27 [0/1082 (0%)]\tLoss: 0.000771\n",
      "Train Epoch: 27 [640/1082 (59%)]\tLoss: 0.000280\n",
      "\\Training set: ccuracy: 1082/1082\n",
      "\n",
      "Validation set: Average loss: 0.0652, Accuracy: 48/103 (47%)\n",
      "Saved model to experiment/model_27.pth. You can run `python evaluate.py --model experiment/model_27.pth` to generate the Kaggle formatted csv file\n",
      "\n",
      "Train Epoch: 28 [0/1082 (0%)]\tLoss: 0.000933\n",
      "Train Epoch: 28 [640/1082 (59%)]\tLoss: 0.000165\n",
      "\\Training set: ccuracy: 1082/1082\n",
      "\n",
      "Validation set: Average loss: 0.0665, Accuracy: 50/103 (49%)\n",
      "Saved model to experiment/model_28.pth. You can run `python evaluate.py --model experiment/model_28.pth` to generate the Kaggle formatted csv file\n",
      "\n",
      "Train Epoch: 29 [0/1082 (0%)]\tLoss: 0.000200\n",
      "Train Epoch: 29 [640/1082 (59%)]\tLoss: 0.001240\n",
      "\\Training set: ccuracy: 1082/1082\n",
      "\n",
      "Validation set: Average loss: 0.0659, Accuracy: 49/103 (48%)\n",
      "Saved model to experiment/model_29.pth. You can run `python evaluate.py --model experiment/model_29.pth` to generate the Kaggle formatted csv file\n",
      "\n",
      "Train Epoch: 30 [0/1082 (0%)]\tLoss: 0.000381\n",
      "Train Epoch: 30 [640/1082 (59%)]\tLoss: 0.000714\n",
      "\\Training set: ccuracy: 1082/1082\n",
      "\n",
      "Validation set: Average loss: 0.0670, Accuracy: 48/103 (47%)\n",
      "Saved model to experiment/model_30.pth. You can run `python evaluate.py --model experiment/model_30.pth` to generate the Kaggle formatted csv file\n",
      "\n",
      "Train Epoch: 31 [0/1082 (0%)]\tLoss: 0.001525\n",
      "Train Epoch: 31 [640/1082 (59%)]\tLoss: 0.001272\n",
      "\\Training set: ccuracy: 1082/1082\n",
      "\n",
      "Validation set: Average loss: 0.0676, Accuracy: 47/103 (46%)\n",
      "Saved model to experiment/model_31.pth. You can run `python evaluate.py --model experiment/model_31.pth` to generate the Kaggle formatted csv file\n",
      "\n",
      "Train Epoch: 32 [0/1082 (0%)]\tLoss: 0.000480\n",
      "Train Epoch: 32 [640/1082 (59%)]\tLoss: 0.000190\n",
      "\\Training set: ccuracy: 1082/1082\n",
      "\n",
      "Validation set: Average loss: 0.0678, Accuracy: 48/103 (47%)\n",
      "Saved model to experiment/model_32.pth. You can run `python evaluate.py --model experiment/model_32.pth` to generate the Kaggle formatted csv file\n",
      "\n",
      "Train Epoch: 33 [0/1082 (0%)]\tLoss: 0.000731\n",
      "Train Epoch: 33 [640/1082 (59%)]\tLoss: 0.000194\n",
      "\\Training set: ccuracy: 1082/1082\n",
      "\n",
      "Validation set: Average loss: 0.0698, Accuracy: 47/103 (46%)\n",
      "Saved model to experiment/model_33.pth. You can run `python evaluate.py --model experiment/model_33.pth` to generate the Kaggle formatted csv file\n",
      "\n",
      "Train Epoch: 34 [0/1082 (0%)]\tLoss: 0.000109\n",
      "Train Epoch: 34 [640/1082 (59%)]\tLoss: 0.000991\n",
      "\\Training set: ccuracy: 1080/1082\n",
      "\n",
      "Validation set: Average loss: 0.0687, Accuracy: 49/103 (48%)\n",
      "Saved model to experiment/model_34.pth. You can run `python evaluate.py --model experiment/model_34.pth` to generate the Kaggle formatted csv file\n",
      "\n",
      "Train Epoch: 35 [0/1082 (0%)]\tLoss: 0.009157\n",
      "Train Epoch: 35 [640/1082 (59%)]\tLoss: 0.013468\n",
      "\\Training set: ccuracy: 1079/1082\n",
      "\n",
      "Validation set: Average loss: 0.0683, Accuracy: 48/103 (47%)\n",
      "Saved model to experiment/model_35.pth. You can run `python evaluate.py --model experiment/model_35.pth` to generate the Kaggle formatted csv file\n",
      "\n",
      "Train Epoch: 36 [0/1082 (0%)]\tLoss: 0.002771\n",
      "Train Epoch: 36 [640/1082 (59%)]\tLoss: 0.000767\n",
      "\\Training set: ccuracy: 1081/1082\n",
      "\n",
      "Validation set: Average loss: 0.0659, Accuracy: 49/103 (48%)\n",
      "Saved model to experiment/model_36.pth. You can run `python evaluate.py --model experiment/model_36.pth` to generate the Kaggle formatted csv file\n",
      "\n",
      "Train Epoch: 37 [0/1082 (0%)]\tLoss: 0.000490\n",
      "Train Epoch: 37 [640/1082 (59%)]\tLoss: 0.000354\n",
      "\\Training set: ccuracy: 1082/1082\n",
      "\n",
      "Validation set: Average loss: 0.0684, Accuracy: 48/103 (47%)\n",
      "Saved model to experiment/model_37.pth. You can run `python evaluate.py --model experiment/model_37.pth` to generate the Kaggle formatted csv file\n",
      "\n",
      "Train Epoch: 38 [0/1082 (0%)]\tLoss: 0.000409\n",
      "Train Epoch: 38 [640/1082 (59%)]\tLoss: 0.000223\n",
      "\\Training set: ccuracy: 1081/1082\n",
      "\n",
      "Validation set: Average loss: 0.0678, Accuracy: 47/103 (46%)\n",
      "Saved model to experiment/model_38.pth. You can run `python evaluate.py --model experiment/model_38.pth` to generate the Kaggle formatted csv file\n",
      "\n",
      "Train Epoch: 39 [0/1082 (0%)]\tLoss: 0.000476\n",
      "Train Epoch: 39 [640/1082 (59%)]\tLoss: 0.000418\n",
      "\\Training set: ccuracy: 1081/1082\n",
      "\n",
      "Validation set: Average loss: 0.0690, Accuracy: 47/103 (46%)\n",
      "Saved model to experiment/model_39.pth. You can run `python evaluate.py --model experiment/model_39.pth` to generate the Kaggle formatted csv file\n",
      "\n",
      "Train Epoch: 40 [0/1082 (0%)]\tLoss: 0.000330\n",
      "Train Epoch: 40 [640/1082 (59%)]\tLoss: 0.000263\n",
      "\\Training set: ccuracy: 1082/1082\n",
      "\n",
      "Validation set: Average loss: 0.0692, Accuracy: 45/103 (44%)\n",
      "Saved model to experiment/model_40.pth. You can run `python evaluate.py --model experiment/model_40.pth` to generate the Kaggle formatted csv file\n",
      "\n",
      "Train Epoch: 41 [0/1082 (0%)]\tLoss: 0.000228\n",
      "Train Epoch: 41 [640/1082 (59%)]\tLoss: 0.000980\n",
      "\\Training set: ccuracy: 1082/1082\n",
      "\n",
      "Validation set: Average loss: 0.0700, Accuracy: 46/103 (45%)\n",
      "Saved model to experiment/model_41.pth. You can run `python evaluate.py --model experiment/model_41.pth` to generate the Kaggle formatted csv file\n",
      "\n",
      "Train Epoch: 42 [0/1082 (0%)]\tLoss: 0.000037\n",
      "Train Epoch: 42 [640/1082 (59%)]\tLoss: 0.000576\n",
      "\\Training set: ccuracy: 1082/1082\n",
      "\n",
      "Validation set: Average loss: 0.0687, Accuracy: 46/103 (45%)\n",
      "Saved model to experiment/model_42.pth. You can run `python evaluate.py --model experiment/model_42.pth` to generate the Kaggle formatted csv file\n",
      "\n",
      "Train Epoch: 43 [0/1082 (0%)]\tLoss: 0.000595\n",
      "Train Epoch: 43 [640/1082 (59%)]\tLoss: 0.000424\n",
      "\\Training set: ccuracy: 1081/1082\n",
      "\n",
      "Validation set: Average loss: 0.0709, Accuracy: 46/103 (45%)\n",
      "Saved model to experiment/model_43.pth. You can run `python evaluate.py --model experiment/model_43.pth` to generate the Kaggle formatted csv file\n",
      "\n",
      "Train Epoch: 44 [0/1082 (0%)]\tLoss: 0.000309\n",
      "Train Epoch: 44 [640/1082 (59%)]\tLoss: 0.000132\n",
      "\\Training set: ccuracy: 1082/1082\n",
      "\n",
      "Validation set: Average loss: 0.0709, Accuracy: 47/103 (46%)\n",
      "Saved model to experiment/model_44.pth. You can run `python evaluate.py --model experiment/model_44.pth` to generate the Kaggle formatted csv file\n",
      "\n",
      "Train Epoch: 45 [0/1082 (0%)]\tLoss: 0.000109\n",
      "Train Epoch: 45 [640/1082 (59%)]\tLoss: 0.000570\n",
      "\\Training set: ccuracy: 1082/1082\n",
      "\n",
      "Validation set: Average loss: 0.0770, Accuracy: 45/103 (44%)\n",
      "Saved model to experiment/model_45.pth. You can run `python evaluate.py --model experiment/model_45.pth` to generate the Kaggle formatted csv file\n",
      "\n",
      "Train Epoch: 46 [0/1082 (0%)]\tLoss: 0.000150\n",
      "Train Epoch: 46 [640/1082 (59%)]\tLoss: 0.000054\n",
      "\\Training set: ccuracy: 1082/1082\n",
      "\n",
      "Validation set: Average loss: 0.0757, Accuracy: 45/103 (44%)\n",
      "Saved model to experiment/model_46.pth. You can run `python evaluate.py --model experiment/model_46.pth` to generate the Kaggle formatted csv file\n",
      "\n",
      "Train Epoch: 47 [0/1082 (0%)]\tLoss: 0.000125\n",
      "Train Epoch: 47 [640/1082 (59%)]\tLoss: 0.000048\n",
      "\\Training set: ccuracy: 1082/1082\n",
      "\n",
      "Validation set: Average loss: 0.0743, Accuracy: 45/103 (44%)\n",
      "Saved model to experiment/model_47.pth. You can run `python evaluate.py --model experiment/model_47.pth` to generate the Kaggle formatted csv file\n",
      "\n",
      "Train Epoch: 48 [0/1082 (0%)]\tLoss: 0.021769\n",
      "Train Epoch: 48 [640/1082 (59%)]\tLoss: 0.077020\n",
      "\\Training set: ccuracy: 1066/1082\n",
      "\n",
      "Validation set: Average loss: 0.0847, Accuracy: 47/103 (46%)\n",
      "Saved model to experiment/model_48.pth. You can run `python evaluate.py --model experiment/model_48.pth` to generate the Kaggle formatted csv file\n",
      "\n",
      "Train Epoch: 49 [0/1082 (0%)]\tLoss: 0.047033\n",
      "Train Epoch: 49 [640/1082 (59%)]\tLoss: 0.015733\n",
      "\\Training set: ccuracy: 1065/1082\n",
      "\n",
      "Validation set: Average loss: 0.0673, Accuracy: 45/103 (44%)\n",
      "Saved model to experiment/model_49.pth. You can run `python evaluate.py --model experiment/model_49.pth` to generate the Kaggle formatted csv file\n",
      "\n",
      "Train Epoch: 50 [0/1082 (0%)]\tLoss: 0.005479\n",
      "Train Epoch: 50 [640/1082 (59%)]\tLoss: 0.041687\n",
      "\\Training set: ccuracy: 1077/1082\n"
     ]
    },
    {
     "name": "stdout",
     "output_type": "stream",
     "text": [
      "\n",
      "Validation set: Average loss: 0.0638, Accuracy: 47/103 (46%)\n",
      "Saved model to experiment/model_50.pth. You can run `python evaluate.py --model experiment/model_50.pth` to generate the Kaggle formatted csv file\n",
      "\n",
      "CPU- Time of execution : 3971.390746116638 s\n"
     ]
    }
   ],
   "source": [
    "start=time.time()\n",
    "%run main.py --epochs=50 --cgpu='CPU' --lr=0.14\n",
    "\n",
    "for epoch in range(1, args.epochs + 1):\n",
    "    train(epoch)\n",
    "    validation()\n",
    "    model_file = args.experiment + '/model_' + str(epoch) + '.pth'\n",
    "    torch.save(model.state_dict(), model_file)\n",
    "    print('Saved model to ' + model_file + '. You can run `python evaluate.py --model ' + model_file + '` to generate the Kaggle formatted csv file\\n')\n",
    "\n",
    "print('CPU- Time of execution :',time.time()-start,'s')   "
   ]
  },
  {
   "cell_type": "markdown",
   "metadata": {},
   "source": [
    "We see that even after 50 epochs, the accuracy is really good on the training data, but saturates around 48% for the validation : there is **overfitting** ! <br/>\n",
    "To try and avoid that, and increase the accuracy, we will try to :\n",
    "- switch to a ResNet18,\n",
    "- augment the dataset, \n",
    "- resize the pictures to a bigger size,\n",
    "- freeze some layers of the Net. We will begin by freezing all of them except the last one, and progressively unfreeze them from the bottom."
   ]
  },
  {
   "cell_type": "markdown",
   "metadata": {},
   "source": [
    "### 2.2 Expanding the database to reduce overfitting\n",
    "We created new training data by adding rescaled, rotated and shifted pictures of the original ones : cf. *data.py*.\n",
    "It modifies the pictures by doing randomly:\n",
    "- a change of the scale, size and ratio by modifying them randomly and recroping to get 64x64 px \n",
    "- a rotation of -45 to +45 degrees and a potential vertical flip to represent possible positions of the bord,\n",
    "- a potential change of perspective\n",
    "\n",
    "We modified the *main.py* file so that we can choose in the arguments if we want to use an augmented dataset or not.\n",
    "\n",
    "Let's try to finetune a ResNet18 (all parameters)."
   ]
  },
  {
   "cell_type": "code",
   "execution_count": 37,
   "metadata": {},
   "outputs": [
    {
     "name": "stderr",
     "output_type": "stream",
     "text": [
      "Downloading: \"https://download.pytorch.org/models/resnet18-5c106cde.pth\" to C:\\Users\\alixa/.cache\\torch\\checkpoints\\resnet18-5c106cde.pth\n",
      "100%|██████████| 44.7M/44.7M [00:15<00:00, 3.00MB/s]\n"
     ]
    },
    {
     "data": {
      "application/vnd.jupyter.widget-view+json": {
       "model_id": "5fbb852bb6294ec98092d93c46c387cc",
       "version_major": 2,
       "version_minor": 0
      },
      "text/html": [
       "<p>Failed to display Jupyter Widget of type <code>HBox</code>.</p>\n",
       "<p>\n",
       "  If you're reading this message in the Jupyter Notebook or JupyterLab Notebook, it may mean\n",
       "  that the widgets JavaScript is still loading. If this message persists, it\n",
       "  likely means that the widgets JavaScript library is either not installed or\n",
       "  not enabled. See the <a href=\"https://ipywidgets.readthedocs.io/en/stable/user_install.html\">Jupyter\n",
       "  Widgets Documentation</a> for setup instructions.\n",
       "</p>\n",
       "<p>\n",
       "  If you're reading this message in another frontend (for example, a static\n",
       "  rendering on GitHub or <a href=\"https://nbviewer.jupyter.org/\">NBViewer</a>),\n",
       "  it may mean that your frontend doesn't currently support widgets.\n",
       "</p>\n"
      ],
      "text/plain": [
       "HBox(children=(IntProgress(value=0), HTML(value='')))"
      ]
     },
     "metadata": {},
     "output_type": "display_data"
    },
    {
     "name": "stdout",
     "output_type": "stream",
     "text": [
      "Stopping early, the loss has diverged\n",
      "Learning rate search finished. See the graph with {finder_name}.plot()\n"
     ]
    },
    {
     "data": {
      "image/png": "[encoded data removed]",
      "text/plain": [
       "<Figure size 432x288 with 1 Axes>"
      ]
     },
     "metadata": {},
     "output_type": "display_data"
    }
   ],
   "source": [
    "from torch_lr_finder import LRFinder\n",
    "\n",
    "\n",
    "#training dataset\n",
    "training_set = torch.utils.data.DataLoader(\n",
    "torch.utils.data.ConcatDataset([\n",
    "    datasets.ImageFolder(args.data + '/train_images',\n",
    "                         transform=data_transforms),\n",
    "    datasets.ImageFolder(args.data + '/train_images',\n",
    "                         transform=data_transforms_2)]), batch_size=args.batch_size, shuffle=True, num_workers=1)\n",
    "\n",
    "\n",
    "#Model\n",
    "model = torchvision.models.resnet18(pretrained=True)\n",
    "num_ftrs = model.fc.in_features\n",
    "model.fc = nn.Linear(num_ftrs, 20)\n",
    "\n",
    "\n",
    "#Optimizer\n",
    "optimizer = optim.SGD(model.parameters(), lr=0.001, momentum=args.momentum)\n",
    "\n",
    "#Criterion\n",
    "criterion = nn.CrossEntropyLoss()\n",
    "\n",
    "lr_finder = LRFinder(model, optimizer, criterion)\n",
    "lr_finder.range_test(train_loader=training_set,val_loader=None, end_lr=100, num_iter=100)\n",
    "lr_finder.plot()"
   ]
  },
  {
   "cell_type": "code",
   "execution_count": 38,
   "metadata": {},
   "outputs": [
    {
     "name": "stdout",
     "output_type": "stream",
     "text": [
      "The smallest lost is : 2.61430686391492 reached for LR = 0.11220184543019632\n"
     ]
    }
   ],
   "source": [
    "lrs = lr_finder.history[\"lr\"]#avoid the first small values\n",
    "losses = lr_finder.history[\"loss\"]\n",
    "\n",
    "print('The smallest lost is :',np.min(losses),'reached for LR =',lrs[np.argmin(losses)])"
   ]
  },
  {
   "cell_type": "code",
   "execution_count": 39,
   "metadata": {},
   "outputs": [
    {
     "name": "stdout",
     "output_type": "stream",
     "text": [
      "Using CPU\n",
      "Train Epoch: 1 [0/2164 (0%)]\tLoss: 3.290512\n",
      "Train Epoch: 1 [640/2164 (29%)]\tLoss: 4.016858\n",
      "Train Epoch: 1 [1280/2164 (59%)]\tLoss: 3.646543\n",
      "Train Epoch: 1 [1920/2164 (88%)]\tLoss: 3.285409\n",
      "Training set: Accuracy: 239/2164\n",
      "\n",
      "Validation set: Average loss: 0.3679, Accuracy: 8/103 (8%)\n",
      "Saved model to experiment/model_1.pth. You can run `python evaluate.py --model experiment/model_1.pth` to generate the Kaggle formatted csv file\n",
      "\n",
      "Train Epoch: 2 [0/2164 (0%)]\tLoss: 3.477355\n",
      "Train Epoch: 2 [640/2164 (29%)]\tLoss: 2.812068\n",
      "Train Epoch: 2 [1280/2164 (59%)]\tLoss: 2.614039\n",
      "Train Epoch: 2 [1920/2164 (88%)]\tLoss: 2.290019\n",
      "Training set: Accuracy: 444/2164\n",
      "\n",
      "Validation set: Average loss: 0.0514, Accuracy: 31/103 (30%)\n",
      "Saved model to experiment/model_2.pth. You can run `python evaluate.py --model experiment/model_2.pth` to generate the Kaggle formatted csv file\n",
      "\n",
      "Train Epoch: 3 [0/2164 (0%)]\tLoss: 2.212065\n",
      "Train Epoch: 3 [640/2164 (29%)]\tLoss: 2.369624\n",
      "Train Epoch: 3 [1280/2164 (59%)]\tLoss: 2.133758\n",
      "Train Epoch: 3 [1920/2164 (88%)]\tLoss: 2.300337\n",
      "Training set: Accuracy: 727/2164\n",
      "\n",
      "Validation set: Average loss: 0.0470, Accuracy: 36/103 (35%)\n",
      "Saved model to experiment/model_3.pth. You can run `python evaluate.py --model experiment/model_3.pth` to generate the Kaggle formatted csv file\n",
      "\n",
      "Train Epoch: 4 [0/2164 (0%)]\tLoss: 1.712269\n",
      "Train Epoch: 4 [640/2164 (29%)]\tLoss: 1.759690\n",
      "Train Epoch: 4 [1280/2164 (59%)]\tLoss: 1.562519\n",
      "Train Epoch: 4 [1920/2164 (88%)]\tLoss: 1.708219\n",
      "Training set: Accuracy: 1037/2164\n",
      "\n",
      "Validation set: Average loss: 0.0315, Accuracy: 51/103 (50%)\n",
      "Saved model to experiment/model_4.pth. You can run `python evaluate.py --model experiment/model_4.pth` to generate the Kaggle formatted csv file\n",
      "\n",
      "Train Epoch: 5 [0/2164 (0%)]\tLoss: 1.417576\n",
      "Train Epoch: 5 [640/2164 (29%)]\tLoss: 1.228338\n",
      "Train Epoch: 5 [1280/2164 (59%)]\tLoss: 1.699577\n",
      "Train Epoch: 5 [1920/2164 (88%)]\tLoss: 1.136757\n",
      "Training set: Accuracy: 1120/2164\n",
      "\n",
      "Validation set: Average loss: 0.0397, Accuracy: 45/103 (44%)\n",
      "Saved model to experiment/model_5.pth. You can run `python evaluate.py --model experiment/model_5.pth` to generate the Kaggle formatted csv file\n",
      "\n",
      "Train Epoch: 6 [0/2164 (0%)]\tLoss: 1.293744\n",
      "Train Epoch: 6 [640/2164 (29%)]\tLoss: 1.223266\n",
      "Train Epoch: 6 [1280/2164 (59%)]\tLoss: 1.131401\n",
      "Train Epoch: 6 [1920/2164 (88%)]\tLoss: 1.409767\n",
      "Training set: Accuracy: 1266/2164\n",
      "\n",
      "Validation set: Average loss: 0.0421, Accuracy: 49/103 (48%)\n",
      "Saved model to experiment/model_6.pth. You can run `python evaluate.py --model experiment/model_6.pth` to generate the Kaggle formatted csv file\n",
      "\n",
      "Train Epoch: 7 [0/2164 (0%)]\tLoss: 0.950636\n",
      "Train Epoch: 7 [640/2164 (29%)]\tLoss: 1.047238\n",
      "Train Epoch: 7 [1280/2164 (59%)]\tLoss: 1.234109\n",
      "Train Epoch: 7 [1920/2164 (88%)]\tLoss: 0.883652\n",
      "Training set: Accuracy: 1403/2164\n",
      "\n",
      "Validation set: Average loss: 0.0362, Accuracy: 48/103 (47%)\n",
      "Saved model to experiment/model_7.pth. You can run `python evaluate.py --model experiment/model_7.pth` to generate the Kaggle formatted csv file\n",
      "\n",
      "Train Epoch: 8 [0/2164 (0%)]\tLoss: 0.836159\n",
      "Train Epoch: 8 [640/2164 (29%)]\tLoss: 0.947004\n",
      "Train Epoch: 8 [1280/2164 (59%)]\tLoss: 0.748233\n",
      "Train Epoch: 8 [1920/2164 (88%)]\tLoss: 1.114752\n",
      "Training set: Accuracy: 1473/2164\n",
      "\n",
      "Validation set: Average loss: 0.0414, Accuracy: 48/103 (47%)\n",
      "Saved model to experiment/model_8.pth. You can run `python evaluate.py --model experiment/model_8.pth` to generate the Kaggle formatted csv file\n",
      "\n",
      "Train Epoch: 9 [0/2164 (0%)]\tLoss: 0.930865\n",
      "Train Epoch: 9 [640/2164 (29%)]\tLoss: 1.031320\n",
      "Train Epoch: 9 [1280/2164 (59%)]\tLoss: 0.861378\n",
      "Train Epoch: 9 [1920/2164 (88%)]\tLoss: 0.602501\n",
      "Training set: Accuracy: 1565/2164\n",
      "\n",
      "Validation set: Average loss: 0.0462, Accuracy: 49/103 (48%)\n",
      "Saved model to experiment/model_9.pth. You can run `python evaluate.py --model experiment/model_9.pth` to generate the Kaggle formatted csv file\n",
      "\n",
      "Train Epoch: 10 [0/2164 (0%)]\tLoss: 0.631046\n",
      "Train Epoch: 10 [640/2164 (29%)]\tLoss: 0.807051\n",
      "Train Epoch: 10 [1280/2164 (59%)]\tLoss: 0.727433\n",
      "Train Epoch: 10 [1920/2164 (88%)]\tLoss: 0.646767\n",
      "Training set: Accuracy: 1626/2164\n",
      "\n",
      "Validation set: Average loss: 0.0405, Accuracy: 55/103 (53%)\n",
      "Saved model to experiment/model_10.pth. You can run `python evaluate.py --model experiment/model_10.pth` to generate the Kaggle formatted csv file\n",
      "\n",
      "Train Epoch: 11 [0/2164 (0%)]\tLoss: 0.632047\n",
      "Train Epoch: 11 [640/2164 (29%)]\tLoss: 0.711935\n",
      "Train Epoch: 11 [1280/2164 (59%)]\tLoss: 0.758316\n",
      "Train Epoch: 11 [1920/2164 (88%)]\tLoss: 0.867599\n",
      "Training set: Accuracy: 1629/2164\n",
      "\n",
      "Validation set: Average loss: 0.0345, Accuracy: 57/103 (55%)\n",
      "Saved model to experiment/model_11.pth. You can run `python evaluate.py --model experiment/model_11.pth` to generate the Kaggle formatted csv file\n",
      "\n",
      "Train Epoch: 12 [0/2164 (0%)]\tLoss: 0.633480\n",
      "Train Epoch: 12 [640/2164 (29%)]\tLoss: 0.489459\n",
      "Train Epoch: 12 [1280/2164 (59%)]\tLoss: 0.629319\n",
      "Train Epoch: 12 [1920/2164 (88%)]\tLoss: 0.624242\n",
      "Training set: Accuracy: 1665/2164\n",
      "\n",
      "Validation set: Average loss: 0.0424, Accuracy: 51/103 (50%)\n",
      "Saved model to experiment/model_12.pth. You can run `python evaluate.py --model experiment/model_12.pth` to generate the Kaggle formatted csv file\n",
      "\n",
      "Train Epoch: 13 [0/2164 (0%)]\tLoss: 0.488710\n",
      "Train Epoch: 13 [640/2164 (29%)]\tLoss: 0.678782\n",
      "Train Epoch: 13 [1280/2164 (59%)]\tLoss: 0.661056\n",
      "Train Epoch: 13 [1920/2164 (88%)]\tLoss: 0.684408\n",
      "Training set: Accuracy: 1681/2164\n",
      "\n",
      "Validation set: Average loss: 0.0451, Accuracy: 49/103 (48%)\n",
      "Saved model to experiment/model_13.pth. You can run `python evaluate.py --model experiment/model_13.pth` to generate the Kaggle formatted csv file\n",
      "\n",
      "Train Epoch: 14 [0/2164 (0%)]\tLoss: 0.509896\n",
      "Train Epoch: 14 [640/2164 (29%)]\tLoss: 0.620997\n",
      "Train Epoch: 14 [1280/2164 (59%)]\tLoss: 0.729711\n",
      "Train Epoch: 14 [1920/2164 (88%)]\tLoss: 0.714170\n",
      "Training set: Accuracy: 1740/2164\n",
      "\n",
      "Validation set: Average loss: 0.0379, Accuracy: 52/103 (50%)\n",
      "Saved model to experiment/model_14.pth. You can run `python evaluate.py --model experiment/model_14.pth` to generate the Kaggle formatted csv file\n",
      "\n",
      "Train Epoch: 15 [0/2164 (0%)]\tLoss: 0.582375\n",
      "Train Epoch: 15 [640/2164 (29%)]\tLoss: 0.640522\n",
      "Train Epoch: 15 [1280/2164 (59%)]\tLoss: 0.722152\n",
      "Train Epoch: 15 [1920/2164 (88%)]\tLoss: 1.295604\n",
      "Training set: Accuracy: 1727/2164\n",
      "\n",
      "Validation set: Average loss: 0.0508, Accuracy: 47/103 (46%)\n",
      "Saved model to experiment/model_15.pth. You can run `python evaluate.py --model experiment/model_15.pth` to generate the Kaggle formatted csv file\n",
      "\n",
      "Train Epoch: 16 [0/2164 (0%)]\tLoss: 0.559301\n",
      "Train Epoch: 16 [640/2164 (29%)]\tLoss: 0.423683\n",
      "Train Epoch: 16 [1280/2164 (59%)]\tLoss: 0.561324\n",
      "Train Epoch: 16 [1920/2164 (88%)]\tLoss: 0.605479\n",
      "Training set: Accuracy: 1782/2164\n",
      "\n",
      "Validation set: Average loss: 0.0476, Accuracy: 49/103 (48%)\n",
      "Saved model to experiment/model_16.pth. You can run `python evaluate.py --model experiment/model_16.pth` to generate the Kaggle formatted csv file\n",
      "\n",
      "Train Epoch: 17 [0/2164 (0%)]\tLoss: 0.631317\n",
      "Train Epoch: 17 [640/2164 (29%)]\tLoss: 0.266041\n",
      "Train Epoch: 17 [1280/2164 (59%)]\tLoss: 0.394085\n",
      "Train Epoch: 17 [1920/2164 (88%)]\tLoss: 0.461055\n",
      "Training set: Accuracy: 1853/2164\n",
      "\n",
      "Validation set: Average loss: 0.0390, Accuracy: 55/103 (53%)\n",
      "Saved model to experiment/model_17.pth. You can run `python evaluate.py --model experiment/model_17.pth` to generate the Kaggle formatted csv file\n",
      "\n",
      "Train Epoch: 18 [0/2164 (0%)]\tLoss: 0.555225\n",
      "Train Epoch: 18 [640/2164 (29%)]\tLoss: 0.395083\n",
      "Train Epoch: 18 [1280/2164 (59%)]\tLoss: 0.698305\n",
      "Train Epoch: 18 [1920/2164 (88%)]\tLoss: 0.695373\n",
      "Training set: Accuracy: 1839/2164\n",
      "\n",
      "Validation set: Average loss: 0.0486, Accuracy: 54/103 (52%)\n",
      "Saved model to experiment/model_18.pth. You can run `python evaluate.py --model experiment/model_18.pth` to generate the Kaggle formatted csv file\n",
      "\n",
      "Train Epoch: 19 [0/2164 (0%)]\tLoss: 0.478821\n",
      "Train Epoch: 19 [640/2164 (29%)]\tLoss: 0.323602\n",
      "Train Epoch: 19 [1280/2164 (59%)]\tLoss: 0.333614\n",
      "Train Epoch: 19 [1920/2164 (88%)]\tLoss: 0.409197\n",
      "Training set: Accuracy: 1862/2164\n",
      "\n",
      "Validation set: Average loss: 0.0481, Accuracy: 55/103 (53%)\n",
      "Saved model to experiment/model_19.pth. You can run `python evaluate.py --model experiment/model_19.pth` to generate the Kaggle formatted csv file\n",
      "\n"
     ]
    },
    {
     "name": "stdout",
     "output_type": "stream",
     "text": [
      "Train Epoch: 20 [0/2164 (0%)]\tLoss: 0.521486\n",
      "Train Epoch: 20 [640/2164 (29%)]\tLoss: 0.388200\n",
      "Train Epoch: 20 [1280/2164 (59%)]\tLoss: 0.490635\n",
      "Train Epoch: 20 [1920/2164 (88%)]\tLoss: 0.234678\n",
      "Training set: Accuracy: 1880/2164\n",
      "\n",
      "Validation set: Average loss: 0.0550, Accuracy: 50/103 (49%)\n",
      "Saved model to experiment/model_20.pth. You can run `python evaluate.py --model experiment/model_20.pth` to generate the Kaggle formatted csv file\n",
      "\n"
     ]
    }
   ],
   "source": [
    "%run main.py --epochs=20 --cgpu='CPU' --lr=0.11 --augmented=True\n",
    "\n",
    "for epoch in range(1, args.epochs + 1):\n",
    "    train(epoch)\n",
    "    validation()\n",
    "    model_file = args.experiment + '/model_' + str(epoch) + '.pth'\n",
    "    torch.save(model.state_dict(), model_file)\n",
    "    print('Saved model to ' + model_file + '. You can run `python evaluate.py --model ' + model_file + '` to generate the Kaggle formatted csv file\\n')\n"
   ]
  },
  {
   "cell_type": "markdown",
   "metadata": {},
   "source": [
    "We get results a bit better with less epochs :we will use an augmented dataset from now on; but the model can still be improved.<br/>\n",
    "Let's try freezing some layers + resizing the pictures to a bigger size by modifying the *data_transform* functions !"
   ]
  },
  {
   "cell_type": "markdown",
   "metadata": {},
   "source": [
    "### 2.3 Freezing layers (+ resizing the pictures to 256x256)\n",
    "\n",
    "Pictures have been resized !\n",
    "\n",
    "#### 2.3.1 Counting the layers"
   ]
  },
  {
   "cell_type": "code",
   "execution_count": 40,
   "metadata": {},
   "outputs": [
    {
     "name": "stdout",
     "output_type": "stream",
     "text": [
      "Number of layers in the net : 10\n"
     ]
    }
   ],
   "source": [
    "model = torchvision.models.resnet18(pretrained=True)\n",
    "num_ftrs = model.fc.in_features\n",
    "model.fc = nn.Linear(num_ftrs, 20)\n",
    "\n",
    "layer = 0\n",
    "for name, child in model.named_children():\n",
    "    layer += 1\n",
    "    \n",
    "print('Number of layers in the net :',layer)"
   ]
  },
  {
   "cell_type": "markdown",
   "metadata": {},
   "source": [
    "#### 2.3.2 Freezing all layers except the last\n",
    "(The training should be faster)"
   ]
  },
  {
   "cell_type": "code",
   "execution_count": 6,
   "metadata": {},
   "outputs": [
    {
     "name": "stdout",
     "output_type": "stream",
     "text": [
      "Using CPU\n"
     ]
    },
    {
     "data": {
      "application/vnd.jupyter.widget-view+json": {
       "model_id": "ca4bff16379a41138052d4a9e6ca03d0",
       "version_major": 2,
       "version_minor": 0
      },
      "text/html": [
       "<p>Failed to display Jupyter Widget of type <code>HBox</code>.</p>\n",
       "<p>\n",
       "  If you're reading this message in the Jupyter Notebook or JupyterLab Notebook, it may mean\n",
       "  that the widgets JavaScript is still loading. If this message persists, it\n",
       "  likely means that the widgets JavaScript library is either not installed or\n",
       "  not enabled. See the <a href=\"https://ipywidgets.readthedocs.io/en/stable/user_install.html\">Jupyter\n",
       "  Widgets Documentation</a> for setup instructions.\n",
       "</p>\n",
       "<p>\n",
       "  If you're reading this message in another frontend (for example, a static\n",
       "  rendering on GitHub or <a href=\"https://nbviewer.jupyter.org/\">NBViewer</a>),\n",
       "  it may mean that your frontend doesn't currently support widgets.\n",
       "</p>\n"
      ],
      "text/plain": [
       "HBox(children=(IntProgress(value=0), HTML(value='')))"
      ]
     },
     "metadata": {},
     "output_type": "display_data"
    },
    {
     "name": "stdout",
     "output_type": "stream",
     "text": [
      "Stopping early, the loss has diverged\n",
      "Learning rate search finished. See the graph with {finder_name}.plot()\n"
     ]
    },
    {
     "data": {
      "image/png": "[encoded data removed]",
      "text/plain": [
       "<Figure size 432x288 with 1 Axes>"
      ]
     },
     "metadata": {},
     "output_type": "display_data"
    }
   ],
   "source": [
    "from torch_lr_finder import LRFinder\n",
    "\n",
    "\n",
    "#training dataset\n",
    "training_set = torch.utils.data.DataLoader(\n",
    "torch.utils.data.ConcatDataset([\n",
    "    datasets.ImageFolder(args.data + '/train_images',\n",
    "                         transform=data_transforms),\n",
    "    datasets.ImageFolder(args.data + '/train_images',\n",
    "                         transform=data_transforms_2)]), batch_size=args.batch_size, shuffle=True, num_workers=1)\n",
    "\n",
    "\n",
    "#Model\n",
    "model = torchvision.models.resnet18(pretrained=True)\n",
    "num_ftrs = model.fc.in_features\n",
    "model.fc = nn.Linear(num_ftrs, 20)\n",
    "\n",
    "# We freeze the 9 first layers\n",
    "layer = 0\n",
    "for name, child in model.named_children():\n",
    "    layer += 1\n",
    "    if layer <= 9:\n",
    "        for name2, params in child.named_parameters():\n",
    "            params.requires_grad = False\n",
    "\n",
    "\n",
    "#Optimizer\n",
    "optimizer = optim.SGD(model.parameters(), lr=0.001, momentum=args.momentum)\n",
    "\n",
    "#Criterion\n",
    "criterion = nn.CrossEntropyLoss()\n",
    "\n",
    "lr_finder = LRFinder(model, optimizer, criterion)\n",
    "lr_finder.range_test(train_loader=training_set,val_loader=None, end_lr=100, num_iter=100)\n",
    "lr_finder.plot()"
   ]
  },
  {
   "cell_type": "code",
   "execution_count": 7,
   "metadata": {},
   "outputs": [
    {
     "name": "stdout",
     "output_type": "stream",
     "text": [
      "The smallest lost is : 2.700276094230675 reached for LR = 0.14125375446227542\n"
     ]
    }
   ],
   "source": [
    "lrs = lr_finder.history[\"lr\"]#avoid the first small values\n",
    "losses = lr_finder.history[\"loss\"]\n",
    "\n",
    "print('The smallest lost is :',np.min(losses),'reached for LR =',lrs[np.argmin(losses)])"
   ]
  },
  {
   "cell_type": "code",
   "execution_count": null,
   "metadata": {},
   "outputs": [
    {
     "name": "stdout",
     "output_type": "stream",
     "text": [
      "Using CPU\n",
      "Train Epoch: 1 [0/2164 (0%)]\tLoss: 3.112243\n",
      "Train Epoch: 1 [640/2164 (29%)]\tLoss: 12.865611\n",
      "Train Epoch: 1 [1280/2164 (59%)]\tLoss: 6.955349\n",
      "Train Epoch: 1 [1920/2164 (88%)]\tLoss: 3.630522\n",
      "Training set: Accuracy: 638/2164\n",
      "\n",
      "Validation set: Average loss: 0.0445, Accuracy: 48/103 (47%)\n",
      "Saved model to experiment/model_1.pth. You can run `python evaluate.py --model experiment/model_1.pth` to generate the Kaggle formatted csv file\n",
      "\n",
      "Train Epoch: 2 [0/2164 (0%)]\tLoss: 2.277579\n",
      "Train Epoch: 2 [640/2164 (29%)]\tLoss: 1.859010\n",
      "Train Epoch: 2 [1280/2164 (59%)]\tLoss: 1.042526\n",
      "Train Epoch: 2 [1920/2164 (88%)]\tLoss: 1.272944\n",
      "Training set: Accuracy: 1532/2164\n",
      "\n",
      "Validation set: Average loss: 0.0380, Accuracy: 52/103 (50%)\n",
      "Saved model to experiment/model_2.pth. You can run `python evaluate.py --model experiment/model_2.pth` to generate the Kaggle formatted csv file\n",
      "\n",
      "Train Epoch: 3 [0/2164 (0%)]\tLoss: 1.487924\n",
      "Train Epoch: 3 [640/2164 (29%)]\tLoss: 0.560002\n"
     ]
    }
   ],
   "source": [
    "start=time.time()\n",
    "%run main.py --epochs=10 --cgpu='CPU' --lr=0.14 --augmented=True\n",
    "\n",
    "for epoch in range(1, args.epochs + 1):\n",
    "    train(epoch)\n",
    "    validation()\n",
    "    model_file = args.experiment + '/model_' + str(epoch) + '.pth'\n",
    "    torch.save(model.state_dict(), model_file)\n",
    "    print('Saved model to ' + model_file + '. You can run `python evaluate.py --model ' + model_file + '` to generate the Kaggle formatted csv file\\n')\n",
    "\n",
    "print('CPU- Time of execution :',time.time()-start,'s')  "
   ]
  },
  {
   "cell_type": "markdown",
   "metadata": {},
   "source": [
    "We saved the model with best validation error and lower accuracy on the training :model4 (to avoid overifitting) to 'experiment/model_res18_saved1' and model16 to 'experiment/model_res18_saved2'"
   ]
  },
  {
   "cell_type": "code",
   "execution_count": 44,
   "metadata": {},
   "outputs": [
    {
     "data": {
      "application/vnd.jupyter.widget-view+json": {
       "model_id": "14d8d618430745049d4dd6f144ddfc3d",
       "version_major": 2,
       "version_minor": 0
      },
      "text/html": [
       "<p>Failed to display Jupyter Widget of type <code>HBox</code>.</p>\n",
       "<p>\n",
       "  If you're reading this message in the Jupyter Notebook or JupyterLab Notebook, it may mean\n",
       "  that the widgets JavaScript is still loading. If this message persists, it\n",
       "  likely means that the widgets JavaScript library is either not installed or\n",
       "  not enabled. See the <a href=\"https://ipywidgets.readthedocs.io/en/stable/user_install.html\">Jupyter\n",
       "  Widgets Documentation</a> for setup instructions.\n",
       "</p>\n",
       "<p>\n",
       "  If you're reading this message in another frontend (for example, a static\n",
       "  rendering on GitHub or <a href=\"https://nbviewer.jupyter.org/\">NBViewer</a>),\n",
       "  it may mean that your frontend doesn't currently support widgets.\n",
       "</p>\n"
      ],
      "text/plain": [
       "HBox(children=(IntProgress(value=0), HTML(value='')))"
      ]
     },
     "metadata": {},
     "output_type": "display_data"
    },
    {
     "name": "stdout",
     "output_type": "stream",
     "text": [
      "Stopping early, the loss has diverged\n",
      "Learning rate search finished. See the graph with {finder_name}.plot()\n"
     ]
    },
    {
     "data": {
      "image/png": "[encoded data removed]",
      "text/plain": [
       "<Figure size 432x288 with 1 Axes>"
      ]
     },
     "metadata": {},
     "output_type": "display_data"
    }
   ],
   "source": [
    "from torch_lr_finder import LRFinder\n",
    "\n",
    "\n",
    "#training dataset\n",
    "training_set = torch.utils.data.DataLoader(\n",
    "torch.utils.data.ConcatDataset([\n",
    "    datasets.ImageFolder(args.data + '/train_images',\n",
    "                         transform=data_transforms),\n",
    "    datasets.ImageFolder(args.data + '/train_images',\n",
    "                         transform=data_transforms_2)]), batch_size=args.batch_size, shuffle=True, num_workers=1)\n",
    "\n",
    "\n",
    "#Model\n",
    "model = torchvision.models.resnet18(pretrained=True)\n",
    "num_ftrs = model.fc.in_features\n",
    "model.fc = nn.Linear(num_ftrs, 20)\n",
    "\n",
    "# We freeze the 9 first layers\n",
    "layer = 0\n",
    "for name, child in model.named_children():\n",
    "    layer += 1\n",
    "    if layer <= 9:\n",
    "        for name2, params in child.named_parameters():\n",
    "            params.requires_grad = False\n",
    "model.load_state_dict(torch.load('experiment/model_res18_saved1.pth'))\n",
    "            \n",
    "\n",
    "#Optimizer\n",
    "optimizer = optim.SGD(model.parameters(), lr=0.001, momentum=args.momentum)\n",
    "\n",
    "#Criterion\n",
    "criterion = nn.CrossEntropyLoss()\n",
    "\n",
    "lr_finder = LRFinder(model, optimizer, criterion)\n",
    "lr_finder.range_test(train_loader=training_set,val_loader=None, end_lr=100, num_iter=100)\n",
    "lr_finder.plot()"
   ]
  },
  {
   "cell_type": "code",
   "execution_count": null,
   "metadata": {},
   "outputs": [],
   "source": [
    "lrs = lr_finder.history[\"lr\"]#avoid the first small values\n",
    "losses = lr_finder.history[\"loss\"]\n",
    "\n",
    "print('The smallest lost is :',np.min(losses),'reached for LR =',lrs[np.argmin(losses)])"
   ]
  },
  {
   "cell_type": "markdown",
   "metadata": {},
   "source": [
    "#### 2.3.3 Freezing the top half of the layers"
   ]
  },
  {
   "cell_type": "code",
   "execution_count": null,
   "metadata": {},
   "outputs": [],
   "source": [
    "from torch_lr_finder import LRFinder\n",
    "\n",
    "\n",
    "#training dataset\n",
    "training_set = torch.utils.data.DataLoader(\n",
    "torch.utils.data.ConcatDataset([\n",
    "    datasets.ImageFolder(args.data + '/train_images',\n",
    "                         transform=data_transforms),\n",
    "    datasets.ImageFolder(args.data + '/train_images',\n",
    "                         transform=data_transforms_2)]), batch_size=args.batch_size, shuffle=True, num_workers=1)\n",
    "\n",
    "\n",
    "#Model\n",
    "model = torchvision.models.resnet18(pretrained=True)\n",
    "num_ftrs = model.fc.in_features\n",
    "model.fc = nn.Linear(num_ftrs, 20)\n",
    "\n",
    "# We freeze the 5 first layers\n",
    "layer = 0\n",
    "for name, child in model.named_children():\n",
    "    layer += 1\n",
    "    if layer <= 5:\n",
    "        for name2, params in child.named_parameters():\n",
    "            params.requires_grad = False\n",
    "\n",
    "\n",
    "#Optimizer\n",
    "optimizer = optim.SGD(model.parameters(), lr=0.001, momentum=args.momentum)\n",
    "\n",
    "#Criterion\n",
    "criterion = nn.CrossEntropyLoss()\n",
    "\n",
    "lr_finder = LRFinder(model, optimizer, criterion)\n",
    "lr_finder.range_test(train_loader=training_set,val_loader=None, end_lr=100, num_iter=100)\n",
    "lr_finder.plot()"
   ]
  },
  {
   "cell_type": "code",
   "execution_count": 32,
   "metadata": {},
   "outputs": [
    {
     "name": "stdout",
     "output_type": "stream",
     "text": [
      "The smallest lost is : 2.6780490179806775 reached for LR = 0.08912509381337456\n"
     ]
    }
   ],
   "source": [
    "lrs = lr_finder.history[\"lr\"]#avoid the first small values\n",
    "losses = lr_finder.history[\"loss\"]\n",
    "\n",
    "print('The smallest lost is :',np.min(losses),'reached for LR =',lrs[np.argmin(losses)])"
   ]
  },
  {
   "cell_type": "code",
   "execution_count": 33,
   "metadata": {},
   "outputs": [
    {
     "name": "stdout",
     "output_type": "stream",
     "text": [
      "Using CPU\n",
      "Train Epoch: 1 [0/2164 (0%)]\tLoss: 3.593346\n",
      "Train Epoch: 1 [640/2164 (29%)]\tLoss: 4.347428\n",
      "Train Epoch: 1 [1280/2164 (59%)]\tLoss: 3.044508\n",
      "Train Epoch: 1 [1920/2164 (88%)]\tLoss: 2.800216\n",
      "Training set: Accuracy: 249/2164\n",
      "\n",
      "Validation set: Average loss: 0.0695, Accuracy: 13/103 (13%)\n",
      "Saved model to experiment/model_1.pth. You can run `python evaluate.py --model experiment/model_1.pth` to generate the Kaggle formatted csv file\n",
      "\n",
      "Train Epoch: 2 [0/2164 (0%)]\tLoss: 2.613709\n",
      "Train Epoch: 2 [640/2164 (29%)]\tLoss: 2.507537\n",
      "Train Epoch: 2 [1280/2164 (59%)]\tLoss: 2.133052\n",
      "Train Epoch: 2 [1920/2164 (88%)]\tLoss: 1.920328\n",
      "Training set: Accuracy: 588/2164\n",
      "\n",
      "Validation set: Average loss: 0.0464, Accuracy: 30/103 (29%)\n",
      "Saved model to experiment/model_2.pth. You can run `python evaluate.py --model experiment/model_2.pth` to generate the Kaggle formatted csv file\n",
      "\n",
      "Train Epoch: 3 [0/2164 (0%)]\tLoss: 1.750473\n",
      "Train Epoch: 3 [640/2164 (29%)]\tLoss: 1.663415\n",
      "Train Epoch: 3 [1280/2164 (59%)]\tLoss: 1.599991\n",
      "Train Epoch: 3 [1920/2164 (88%)]\tLoss: 1.398291\n",
      "Training set: Accuracy: 912/2164\n",
      "\n",
      "Validation set: Average loss: 0.0379, Accuracy: 48/103 (47%)\n",
      "Saved model to experiment/model_3.pth. You can run `python evaluate.py --model experiment/model_3.pth` to generate the Kaggle formatted csv file\n",
      "\n",
      "Train Epoch: 4 [0/2164 (0%)]\tLoss: 1.536361\n",
      "Train Epoch: 4 [640/2164 (29%)]\tLoss: 1.174259\n",
      "Train Epoch: 4 [1280/2164 (59%)]\tLoss: 1.196311\n",
      "Train Epoch: 4 [1920/2164 (88%)]\tLoss: 1.106254\n",
      "Training set: Accuracy: 1201/2164\n",
      "\n",
      "Validation set: Average loss: 0.0371, Accuracy: 47/103 (46%)\n",
      "Saved model to experiment/model_4.pth. You can run `python evaluate.py --model experiment/model_4.pth` to generate the Kaggle formatted csv file\n",
      "\n",
      "Train Epoch: 5 [0/2164 (0%)]\tLoss: 1.511347\n",
      "Train Epoch: 5 [640/2164 (29%)]\tLoss: 1.877411\n",
      "Train Epoch: 5 [1280/2164 (59%)]\tLoss: 1.159395\n",
      "Train Epoch: 5 [1920/2164 (88%)]\tLoss: 0.833840\n",
      "Training set: Accuracy: 1274/2164\n",
      "\n",
      "Validation set: Average loss: 0.0347, Accuracy: 50/103 (49%)\n",
      "Saved model to experiment/model_5.pth. You can run `python evaluate.py --model experiment/model_5.pth` to generate the Kaggle formatted csv file\n",
      "\n",
      "Train Epoch: 6 [0/2164 (0%)]\tLoss: 1.055796\n",
      "Train Epoch: 6 [640/2164 (29%)]\tLoss: 0.720910\n",
      "Train Epoch: 6 [1280/2164 (59%)]\tLoss: 1.028839\n",
      "Train Epoch: 6 [1920/2164 (88%)]\tLoss: 0.823571\n",
      "Training set: Accuracy: 1502/2164\n",
      "\n",
      "Validation set: Average loss: 0.0432, Accuracy: 48/103 (47%)\n",
      "Saved model to experiment/model_6.pth. You can run `python evaluate.py --model experiment/model_6.pth` to generate the Kaggle formatted csv file\n",
      "\n",
      "Train Epoch: 7 [0/2164 (0%)]\tLoss: 0.820794\n",
      "Train Epoch: 7 [640/2164 (29%)]\tLoss: 0.658599\n",
      "Train Epoch: 7 [1280/2164 (59%)]\tLoss: 0.931430\n",
      "Train Epoch: 7 [1920/2164 (88%)]\tLoss: 1.041546\n",
      "Training set: Accuracy: 1610/2164\n",
      "\n",
      "Validation set: Average loss: 0.0462, Accuracy: 47/103 (46%)\n",
      "Saved model to experiment/model_7.pth. You can run `python evaluate.py --model experiment/model_7.pth` to generate the Kaggle formatted csv file\n",
      "\n",
      "Train Epoch: 8 [0/2164 (0%)]\tLoss: 0.582501\n",
      "Train Epoch: 8 [640/2164 (29%)]\tLoss: 0.651778\n",
      "Train Epoch: 8 [1280/2164 (59%)]\tLoss: 0.425283\n",
      "Train Epoch: 8 [1920/2164 (88%)]\tLoss: 0.687015\n",
      "Training set: Accuracy: 1670/2164\n",
      "\n",
      "Validation set: Average loss: 0.0471, Accuracy: 52/103 (50%)\n",
      "Saved model to experiment/model_8.pth. You can run `python evaluate.py --model experiment/model_8.pth` to generate the Kaggle formatted csv file\n",
      "\n",
      "Train Epoch: 9 [0/2164 (0%)]\tLoss: 0.528077\n",
      "Train Epoch: 9 [640/2164 (29%)]\tLoss: 0.438286\n",
      "Train Epoch: 9 [1280/2164 (59%)]\tLoss: 0.730547\n",
      "Train Epoch: 9 [1920/2164 (88%)]\tLoss: 0.598592\n",
      "Training set: Accuracy: 1747/2164\n",
      "\n",
      "Validation set: Average loss: 0.0466, Accuracy: 50/103 (49%)\n",
      "Saved model to experiment/model_9.pth. You can run `python evaluate.py --model experiment/model_9.pth` to generate the Kaggle formatted csv file\n",
      "\n",
      "Train Epoch: 10 [0/2164 (0%)]\tLoss: 0.370254\n",
      "Train Epoch: 10 [640/2164 (29%)]\tLoss: 0.505386\n",
      "Train Epoch: 10 [1280/2164 (59%)]\tLoss: 0.638997\n",
      "Train Epoch: 10 [1920/2164 (88%)]\tLoss: 0.488983\n",
      "Training set: Accuracy: 1764/2164\n",
      "\n",
      "Validation set: Average loss: 0.0497, Accuracy: 51/103 (50%)\n",
      "Saved model to experiment/model_10.pth. You can run `python evaluate.py --model experiment/model_10.pth` to generate the Kaggle formatted csv file\n",
      "\n",
      "CPU- Time of execution : 1287.0346052646637 s\n"
     ]
    }
   ],
   "source": [
    "start=time.time()\n",
    "%run main.py --epochs=10 --cgpu='CPU' --lr=0.089 --augmented=True\n",
    "\n",
    "for epoch in range(1, args.epochs + 1):\n",
    "    train(epoch)\n",
    "    validation()\n",
    "    model_file = args.experiment + '/model_' + str(epoch) + '.pth'\n",
    "    torch.save(model.state_dict(), model_file)\n",
    "    print('Saved model to ' + model_file + '. You can run `python evaluate.py --model ' + model_file + '` to generate the Kaggle formatted csv file\\n')\n",
    "\n",
    "print('CPU- Time of execution :',time.time()-start,'s')  "
   ]
  },
  {
   "cell_type": "markdown",
   "metadata": {},
   "source": [
    "#### 2.3.4 Freezing the bottom half of the layer (except the last)"
   ]
  },
  {
   "cell_type": "code",
   "execution_count": 34,
   "metadata": {},
   "outputs": [
    {
     "data": {
      "application/vnd.jupyter.widget-view+json": {
       "model_id": "ae24ca5833a9481da68dba58ea268ee7",
       "version_major": 2,
       "version_minor": 0
      },
      "text/html": [
       "<p>Failed to display Jupyter Widget of type <code>HBox</code>.</p>\n",
       "<p>\n",
       "  If you're reading this message in the Jupyter Notebook or JupyterLab Notebook, it may mean\n",
       "  that the widgets JavaScript is still loading. If this message persists, it\n",
       "  likely means that the widgets JavaScript library is either not installed or\n",
       "  not enabled. See the <a href=\"https://ipywidgets.readthedocs.io/en/stable/user_install.html\">Jupyter\n",
       "  Widgets Documentation</a> for setup instructions.\n",
       "</p>\n",
       "<p>\n",
       "  If you're reading this message in another frontend (for example, a static\n",
       "  rendering on GitHub or <a href=\"https://nbviewer.jupyter.org/\">NBViewer</a>),\n",
       "  it may mean that your frontend doesn't currently support widgets.\n",
       "</p>\n"
      ],
      "text/plain": [
       "HBox(children=(IntProgress(value=0), HTML(value='')))"
      ]
     },
     "metadata": {},
     "output_type": "display_data"
    },
    {
     "name": "stdout",
     "output_type": "stream",
     "text": [
      "Stopping early, the loss has diverged\n",
      "Learning rate search finished. See the graph with {finder_name}.plot()\n"
     ]
    },
    {
     "data": {
      "image/png": "[encoded data removed]",
      "text/plain": [
       "<Figure size 432x288 with 1 Axes>"
      ]
     },
     "metadata": {},
     "output_type": "display_data"
    }
   ],
   "source": [
    "from torch_lr_finder import LRFinder\n",
    "\n",
    "\n",
    "#training dataset\n",
    "training_set = torch.utils.data.DataLoader(\n",
    "torch.utils.data.ConcatDataset([\n",
    "    datasets.ImageFolder(args.data + '/train_images',\n",
    "                         transform=data_transforms),\n",
    "    datasets.ImageFolder(args.data + '/train_images',\n",
    "                         transform=data_transforms_2)]), batch_size=args.batch_size, shuffle=True, num_workers=1)\n",
    "\n",
    "\n",
    "#Model\n",
    "model = torchvision.models.resnet34(pretrained=True)\n",
    "num_ftrs = model.fc.in_features\n",
    "model.fc = nn.Linear(num_ftrs, 20)\n",
    "\n",
    "# We freeze the 4 next to last layers\n",
    "layer = 0\n",
    "for name, child in model.named_children():\n",
    "    layer += 1\n",
    "    if 5 < layer <= 9:\n",
    "        for name2, params in child.named_parameters():\n",
    "            params.requires_grad = False\n",
    "\n",
    "\n",
    "#Optimizer\n",
    "optimizer = optim.SGD(model.parameters(), lr=0.001, momentum=args.momentum)\n",
    "\n",
    "#Criterion\n",
    "criterion = nn.CrossEntropyLoss()\n",
    "\n",
    "lr_finder = LRFinder(model, optimizer, criterion)\n",
    "lr_finder.range_test(train_loader=training_set,val_loader=None, end_lr=100, num_iter=100)\n",
    "lr_finder.plot()"
   ]
  },
  {
   "cell_type": "code",
   "execution_count": 35,
   "metadata": {},
   "outputs": [
    {
     "name": "stdout",
     "output_type": "stream",
     "text": [
      "The smallest lost is : 3.068930059111452 reached for LR = 0.08912509381337456\n"
     ]
    }
   ],
   "source": [
    "lrs = lr_finder.history[\"lr\"]#avoid the first small values\n",
    "losses = lr_finder.history[\"loss\"]\n",
    "\n",
    "print('The smallest lost is :',np.min(losses),'reached for LR =',lrs[np.argmin(losses)])"
   ]
  },
  {
   "cell_type": "code",
   "execution_count": 36,
   "metadata": {},
   "outputs": [
    {
     "name": "stdout",
     "output_type": "stream",
     "text": [
      "Using CPU\n",
      "Train Epoch: 1 [0/2164 (0%)]\tLoss: 3.593346\n",
      "Train Epoch: 1 [640/2164 (29%)]\tLoss: 9.133324\n",
      "Train Epoch: 1 [1280/2164 (59%)]\tLoss: 8.678043\n",
      "Train Epoch: 1 [1920/2164 (88%)]\tLoss: 4.248317\n",
      "Training set: Accuracy: 246/2164\n",
      "\n",
      "Validation set: Average loss: 0.1154, Accuracy: 14/103 (14%)\n",
      "Saved model to experiment/model_1.pth. You can run `python evaluate.py --model experiment/model_1.pth` to generate the Kaggle formatted csv file\n",
      "\n",
      "Train Epoch: 2 [0/2164 (0%)]\tLoss: 4.618398\n",
      "Train Epoch: 2 [640/2164 (29%)]\tLoss: 4.128091\n",
      "Train Epoch: 2 [1280/2164 (59%)]\tLoss: 3.448338\n",
      "Train Epoch: 2 [1920/2164 (88%)]\tLoss: 3.882566\n",
      "Training set: Accuracy: 437/2164\n",
      "\n",
      "Validation set: Average loss: 0.1286, Accuracy: 12/103 (12%)\n",
      "Saved model to experiment/model_2.pth. You can run `python evaluate.py --model experiment/model_2.pth` to generate the Kaggle formatted csv file\n",
      "\n",
      "Train Epoch: 3 [0/2164 (0%)]\tLoss: 5.651033\n",
      "Train Epoch: 3 [640/2164 (29%)]\tLoss: 3.715169\n",
      "Train Epoch: 3 [1280/2164 (59%)]\tLoss: 3.906302\n",
      "Train Epoch: 3 [1920/2164 (88%)]\tLoss: 3.544424\n",
      "Training set: Accuracy: 516/2164\n",
      "\n",
      "Validation set: Average loss: 0.1076, Accuracy: 15/103 (15%)\n",
      "Saved model to experiment/model_3.pth. You can run `python evaluate.py --model experiment/model_3.pth` to generate the Kaggle formatted csv file\n",
      "\n",
      "Train Epoch: 4 [0/2164 (0%)]\tLoss: 4.891955\n",
      "Train Epoch: 4 [640/2164 (29%)]\tLoss: 4.825559\n",
      "Train Epoch: 4 [1280/2164 (59%)]\tLoss: 4.476192\n",
      "Train Epoch: 4 [1920/2164 (88%)]\tLoss: 3.163960\n",
      "Training set: Accuracy: 523/2164\n",
      "\n",
      "Validation set: Average loss: 0.0765, Accuracy: 21/103 (20%)\n",
      "Saved model to experiment/model_4.pth. You can run `python evaluate.py --model experiment/model_4.pth` to generate the Kaggle formatted csv file\n",
      "\n",
      "Train Epoch: 5 [0/2164 (0%)]\tLoss: 4.110483\n",
      "Train Epoch: 5 [640/2164 (29%)]\tLoss: 3.299711\n",
      "Train Epoch: 5 [1280/2164 (59%)]\tLoss: 3.301000\n",
      "Train Epoch: 5 [1920/2164 (88%)]\tLoss: 2.669953\n",
      "Training set: Accuracy: 607/2164\n",
      "\n",
      "Validation set: Average loss: 0.0698, Accuracy: 23/103 (22%)\n",
      "Saved model to experiment/model_5.pth. You can run `python evaluate.py --model experiment/model_5.pth` to generate the Kaggle formatted csv file\n",
      "\n",
      "Train Epoch: 6 [0/2164 (0%)]\tLoss: 2.606431\n",
      "Train Epoch: 6 [640/2164 (29%)]\tLoss: 2.593322\n",
      "Train Epoch: 6 [1280/2164 (59%)]\tLoss: 3.030458\n",
      "Train Epoch: 6 [1920/2164 (88%)]\tLoss: 3.002261\n",
      "Training set: Accuracy: 710/2164\n",
      "\n",
      "Validation set: Average loss: 0.0581, Accuracy: 32/103 (31%)\n",
      "Saved model to experiment/model_6.pth. You can run `python evaluate.py --model experiment/model_6.pth` to generate the Kaggle formatted csv file\n",
      "\n",
      "Train Epoch: 7 [0/2164 (0%)]\tLoss: 2.634797\n",
      "Train Epoch: 7 [640/2164 (29%)]\tLoss: 3.237071\n",
      "Train Epoch: 7 [1280/2164 (59%)]\tLoss: 3.692200\n",
      "Train Epoch: 7 [1920/2164 (88%)]\tLoss: 3.747870\n",
      "Training set: Accuracy: 694/2164\n",
      "\n",
      "Validation set: Average loss: 0.0946, Accuracy: 22/103 (21%)\n",
      "Saved model to experiment/model_7.pth. You can run `python evaluate.py --model experiment/model_7.pth` to generate the Kaggle formatted csv file\n",
      "\n",
      "Train Epoch: 8 [0/2164 (0%)]\tLoss: 3.399578\n",
      "Train Epoch: 8 [640/2164 (29%)]\tLoss: 2.388195\n",
      "Train Epoch: 8 [1280/2164 (59%)]\tLoss: 2.537668\n",
      "Train Epoch: 8 [1920/2164 (88%)]\tLoss: 2.572138\n",
      "Training set: Accuracy: 754/2164\n",
      "\n",
      "Validation set: Average loss: 0.0762, Accuracy: 23/103 (22%)\n",
      "Saved model to experiment/model_8.pth. You can run `python evaluate.py --model experiment/model_8.pth` to generate the Kaggle formatted csv file\n",
      "\n",
      "Train Epoch: 9 [0/2164 (0%)]\tLoss: 2.160146\n",
      "Train Epoch: 9 [640/2164 (29%)]\tLoss: 2.096263\n",
      "Train Epoch: 9 [1280/2164 (59%)]\tLoss: 3.694446\n",
      "Train Epoch: 9 [1920/2164 (88%)]\tLoss: 2.400251\n",
      "Training set: Accuracy: 782/2164\n",
      "\n",
      "Validation set: Average loss: 0.0764, Accuracy: 27/103 (26%)\n",
      "Saved model to experiment/model_9.pth. You can run `python evaluate.py --model experiment/model_9.pth` to generate the Kaggle formatted csv file\n",
      "\n",
      "Train Epoch: 10 [0/2164 (0%)]\tLoss: 2.838834\n",
      "Train Epoch: 10 [640/2164 (29%)]\tLoss: 2.447930\n",
      "Train Epoch: 10 [1280/2164 (59%)]\tLoss: 3.077616\n",
      "Train Epoch: 10 [1920/2164 (88%)]\tLoss: 2.782120\n",
      "Training set: Accuracy: 816/2164\n",
      "\n",
      "Validation set: Average loss: 0.0614, Accuracy: 36/103 (35%)\n",
      "Saved model to experiment/model_10.pth. You can run `python evaluate.py --model experiment/model_10.pth` to generate the Kaggle formatted csv file\n",
      "\n",
      "Train Epoch: 11 [0/2164 (0%)]\tLoss: 2.248729\n",
      "Train Epoch: 11 [640/2164 (29%)]\tLoss: 3.099881\n",
      "Train Epoch: 11 [1280/2164 (59%)]\tLoss: 2.351916\n",
      "Train Epoch: 11 [1920/2164 (88%)]\tLoss: 2.889784\n",
      "Training set: Accuracy: 827/2164\n",
      "\n",
      "Validation set: Average loss: 0.0794, Accuracy: 34/103 (33%)\n",
      "Saved model to experiment/model_11.pth. You can run `python evaluate.py --model experiment/model_11.pth` to generate the Kaggle formatted csv file\n",
      "\n",
      "Train Epoch: 12 [0/2164 (0%)]\tLoss: 2.241345\n",
      "Train Epoch: 12 [640/2164 (29%)]\tLoss: 2.079332\n",
      "Train Epoch: 12 [1280/2164 (59%)]\tLoss: 2.220893\n",
      "Train Epoch: 12 [1920/2164 (88%)]\tLoss: 1.790986\n",
      "Training set: Accuracy: 927/2164\n",
      "\n",
      "Validation set: Average loss: 0.0681, Accuracy: 26/103 (25%)\n",
      "Saved model to experiment/model_12.pth. You can run `python evaluate.py --model experiment/model_12.pth` to generate the Kaggle formatted csv file\n",
      "\n",
      "Train Epoch: 13 [0/2164 (0%)]\tLoss: 1.872918\n",
      "Train Epoch: 13 [640/2164 (29%)]\tLoss: 1.984320\n",
      "Train Epoch: 13 [1280/2164 (59%)]\tLoss: 1.640437\n",
      "Train Epoch: 13 [1920/2164 (88%)]\tLoss: 2.405610\n",
      "Training set: Accuracy: 963/2164\n",
      "\n",
      "Validation set: Average loss: 0.0672, Accuracy: 29/103 (28%)\n",
      "Saved model to experiment/model_13.pth. You can run `python evaluate.py --model experiment/model_13.pth` to generate the Kaggle formatted csv file\n",
      "\n",
      "Train Epoch: 14 [0/2164 (0%)]\tLoss: 2.544924\n",
      "Train Epoch: 14 [640/2164 (29%)]\tLoss: 1.950360\n",
      "Train Epoch: 14 [1280/2164 (59%)]\tLoss: 2.484713\n",
      "Train Epoch: 14 [1920/2164 (88%)]\tLoss: 2.889082\n",
      "Training set: Accuracy: 925/2164\n",
      "\n",
      "Validation set: Average loss: 0.0933, Accuracy: 22/103 (21%)\n",
      "Saved model to experiment/model_14.pth. You can run `python evaluate.py --model experiment/model_14.pth` to generate the Kaggle formatted csv file\n",
      "\n",
      "Train Epoch: 15 [0/2164 (0%)]\tLoss: 2.185150\n",
      "Train Epoch: 15 [640/2164 (29%)]\tLoss: 1.604303\n"
     ]
    },
    {
     "ename": "KeyboardInterrupt",
     "evalue": "",
     "output_type": "error",
     "traceback": [
      "\u001b[1;31m---------------------------------------------------------------------------\u001b[0m",
      "\u001b[1;31mKeyboardInterrupt\u001b[0m                         Traceback (most recent call last)",
      "\u001b[1;32m<ipython-input-36-c42c5c657c19>\u001b[0m in \u001b[0;36m<module>\u001b[1;34m()\u001b[0m\n\u001b[0;32m      3\u001b[0m \u001b[1;33m\u001b[0m\u001b[0m\n\u001b[0;32m      4\u001b[0m \u001b[1;32mfor\u001b[0m \u001b[0mepoch\u001b[0m \u001b[1;32min\u001b[0m \u001b[0mrange\u001b[0m\u001b[1;33m(\u001b[0m\u001b[1;36m1\u001b[0m\u001b[1;33m,\u001b[0m \u001b[0margs\u001b[0m\u001b[1;33m.\u001b[0m\u001b[0mepochs\u001b[0m \u001b[1;33m+\u001b[0m \u001b[1;36m1\u001b[0m\u001b[1;33m)\u001b[0m\u001b[1;33m:\u001b[0m\u001b[1;33m\u001b[0m\u001b[0m\n\u001b[1;32m----> 5\u001b[1;33m     \u001b[0mtrain\u001b[0m\u001b[1;33m(\u001b[0m\u001b[0mepoch\u001b[0m\u001b[1;33m)\u001b[0m\u001b[1;33m\u001b[0m\u001b[0m\n\u001b[0m\u001b[0;32m      6\u001b[0m     \u001b[0mvalidation\u001b[0m\u001b[1;33m(\u001b[0m\u001b[1;33m)\u001b[0m\u001b[1;33m\u001b[0m\u001b[0m\n\u001b[0;32m      7\u001b[0m     \u001b[0mmodel_file\u001b[0m \u001b[1;33m=\u001b[0m \u001b[0margs\u001b[0m\u001b[1;33m.\u001b[0m\u001b[0mexperiment\u001b[0m \u001b[1;33m+\u001b[0m \u001b[1;34m'/model_'\u001b[0m \u001b[1;33m+\u001b[0m \u001b[0mstr\u001b[0m\u001b[1;33m(\u001b[0m\u001b[0mepoch\u001b[0m\u001b[1;33m)\u001b[0m \u001b[1;33m+\u001b[0m \u001b[1;34m'.pth'\u001b[0m\u001b[1;33m\u001b[0m\u001b[0m\n",
      "\u001b[1;32m~\\Desktop\\Kaggle\\main.py\u001b[0m in \u001b[0;36mtrain\u001b[1;34m(epoch)\u001b[0m\n\u001b[0;32m    136\u001b[0m         \u001b[0mcriterion\u001b[0m \u001b[1;33m=\u001b[0m \u001b[0mtorch\u001b[0m\u001b[1;33m.\u001b[0m\u001b[0mnn\u001b[0m\u001b[1;33m.\u001b[0m\u001b[0mCrossEntropyLoss\u001b[0m\u001b[1;33m(\u001b[0m\u001b[0mreduction\u001b[0m\u001b[1;33m=\u001b[0m\u001b[1;34m'mean'\u001b[0m\u001b[1;33m)\u001b[0m\u001b[1;33m\u001b[0m\u001b[0m\n\u001b[0;32m    137\u001b[0m         \u001b[0mloss\u001b[0m \u001b[1;33m=\u001b[0m \u001b[0mcriterion\u001b[0m\u001b[1;33m(\u001b[0m\u001b[0moutput\u001b[0m\u001b[1;33m,\u001b[0m \u001b[0mtarget\u001b[0m\u001b[1;33m)\u001b[0m\u001b[1;33m\u001b[0m\u001b[0m\n\u001b[1;32m--> 138\u001b[1;33m         \u001b[0mloss\u001b[0m\u001b[1;33m.\u001b[0m\u001b[0mbackward\u001b[0m\u001b[1;33m(\u001b[0m\u001b[1;33m)\u001b[0m\u001b[1;33m\u001b[0m\u001b[0m\n\u001b[0m\u001b[0;32m    139\u001b[0m         \u001b[0moptimizer\u001b[0m\u001b[1;33m.\u001b[0m\u001b[0mstep\u001b[0m\u001b[1;33m(\u001b[0m\u001b[1;33m)\u001b[0m\u001b[1;33m\u001b[0m\u001b[0m\n\u001b[0;32m    140\u001b[0m         \u001b[1;32mif\u001b[0m \u001b[0mbatch_idx\u001b[0m \u001b[1;33m%\u001b[0m \u001b[0margs\u001b[0m\u001b[1;33m.\u001b[0m\u001b[0mlog_interval\u001b[0m \u001b[1;33m==\u001b[0m \u001b[1;36m0\u001b[0m\u001b[1;33m:\u001b[0m\u001b[1;33m\u001b[0m\u001b[0m\n",
      "\u001b[1;32mc:\\users\\alixa\\appdata\\local\\programs\\python\\python35\\lib\\site-packages\\torch\\tensor.py\u001b[0m in \u001b[0;36mbackward\u001b[1;34m(self, gradient, retain_graph, create_graph)\u001b[0m\n\u001b[0;32m    164\u001b[0m                 \u001b[0mproducts\u001b[0m\u001b[1;33m.\u001b[0m \u001b[0mDefaults\u001b[0m \u001b[0mto\u001b[0m\u001b[0;31m \u001b[0m\u001b[0;31m`\u001b[0m\u001b[0;31m`\u001b[0m\u001b[1;32mFalse\u001b[0m\u001b[0;31m`\u001b[0m\u001b[0;31m`\u001b[0m\u001b[1;33m.\u001b[0m\u001b[1;33m\u001b[0m\u001b[0m\n\u001b[0;32m    165\u001b[0m         \"\"\"\n\u001b[1;32m--> 166\u001b[1;33m         \u001b[0mtorch\u001b[0m\u001b[1;33m.\u001b[0m\u001b[0mautograd\u001b[0m\u001b[1;33m.\u001b[0m\u001b[0mbackward\u001b[0m\u001b[1;33m(\u001b[0m\u001b[0mself\u001b[0m\u001b[1;33m,\u001b[0m \u001b[0mgradient\u001b[0m\u001b[1;33m,\u001b[0m \u001b[0mretain_graph\u001b[0m\u001b[1;33m,\u001b[0m \u001b[0mcreate_graph\u001b[0m\u001b[1;33m)\u001b[0m\u001b[1;33m\u001b[0m\u001b[0m\n\u001b[0m\u001b[0;32m    167\u001b[0m \u001b[1;33m\u001b[0m\u001b[0m\n\u001b[0;32m    168\u001b[0m     \u001b[1;32mdef\u001b[0m \u001b[0mregister_hook\u001b[0m\u001b[1;33m(\u001b[0m\u001b[0mself\u001b[0m\u001b[1;33m,\u001b[0m \u001b[0mhook\u001b[0m\u001b[1;33m)\u001b[0m\u001b[1;33m:\u001b[0m\u001b[1;33m\u001b[0m\u001b[0m\n",
      "\u001b[1;32mc:\\users\\alixa\\appdata\\local\\programs\\python\\python35\\lib\\site-packages\\torch\\autograd\\__init__.py\u001b[0m in \u001b[0;36mbackward\u001b[1;34m(tensors, grad_tensors, retain_graph, create_graph, grad_variables)\u001b[0m\n\u001b[0;32m     97\u001b[0m     Variable._execution_engine.run_backward(\n\u001b[0;32m     98\u001b[0m         \u001b[0mtensors\u001b[0m\u001b[1;33m,\u001b[0m \u001b[0mgrad_tensors\u001b[0m\u001b[1;33m,\u001b[0m \u001b[0mretain_graph\u001b[0m\u001b[1;33m,\u001b[0m \u001b[0mcreate_graph\u001b[0m\u001b[1;33m,\u001b[0m\u001b[1;33m\u001b[0m\u001b[0m\n\u001b[1;32m---> 99\u001b[1;33m         allow_unreachable=True)  # allow_unreachable flag\n\u001b[0m\u001b[0;32m    100\u001b[0m \u001b[1;33m\u001b[0m\u001b[0m\n\u001b[0;32m    101\u001b[0m \u001b[1;33m\u001b[0m\u001b[0m\n",
      "\u001b[1;31mKeyboardInterrupt\u001b[0m: "
     ]
    }
   ],
   "source": [
    "start=time.time()\n",
    "%run main.py --epochs=20 --cgpu='CPU' --lr=0.089 --augmented=True\n",
    "\n",
    "for epoch in range(1, args.epochs + 1):\n",
    "    train(epoch)\n",
    "    validation()\n",
    "    model_file = args.experiment + '/model_' + str(epoch) + '.pth'\n",
    "    torch.save(model.state_dict(), model_file)\n",
    "    print('Saved model to ' + model_file + '. You can run `python evaluate.py --model ' + model_file + '` to generate the Kaggle formatted csv file\\n')\n",
    "\n",
    "print('CPU- Time of execution :',time.time()-start,'s')  "
   ]
  },
  {
   "cell_type": "markdown",
   "metadata": {},
   "source": [
    "### Idea : Reloading best previous state and retraining on difficult pictures\n",
    "#### (pictures where the error was higher)"
   ]
  },
  {
   "cell_type": "code",
   "execution_count": 22,
   "metadata": {},
   "outputs": [],
   "source": [
    "import matplotlib.pyplot as plt"
   ]
  },
  {
   "cell_type": "code",
   "execution_count": 20,
   "metadata": {},
   "outputs": [
    {
     "name": "stdout",
     "output_type": "stream",
     "text": [
      "torch.Size([39, 3, 64, 64])\n"
     ]
    }
   ],
   "source": [
    "print(data.shape)"
   ]
  },
  {
   "cell_type": "code",
   "execution_count": 5,
   "metadata": {},
   "outputs": [
    {
     "ename": "RuntimeError",
     "evalue": "Error(s) in loading state_dict for ResNet:\n\tMissing key(s) in state_dict: \"layer1.0.conv3.weight\", \"layer1.0.bn3.running_var\", \"layer1.0.bn3.weight\", \"layer1.0.bn3.running_mean\", \"layer1.0.bn3.bias\", \"layer1.0.downsample.0.weight\", \"layer1.0.downsample.1.running_var\", \"layer1.0.downsample.1.weight\", \"layer1.0.downsample.1.running_mean\", \"layer1.0.downsample.1.bias\", \"layer1.1.conv3.weight\", \"layer1.1.bn3.running_var\", \"layer1.1.bn3.weight\", \"layer1.1.bn3.running_mean\", \"layer1.1.bn3.bias\", \"layer1.2.conv3.weight\", \"layer1.2.bn3.running_var\", \"layer1.2.bn3.weight\", \"layer1.2.bn3.running_mean\", \"layer1.2.bn3.bias\", \"layer2.0.conv3.weight\", \"layer2.0.bn3.running_var\", \"layer2.0.bn3.weight\", \"layer2.0.bn3.running_mean\", \"layer2.0.bn3.bias\", \"layer2.1.conv3.weight\", \"layer2.1.bn3.running_var\", \"layer2.1.bn3.weight\", \"layer2.1.bn3.running_mean\", \"layer2.1.bn3.bias\", \"layer2.2.conv3.weight\", \"layer2.2.bn3.running_var\", \"layer2.2.bn3.weight\", \"layer2.2.bn3.running_mean\", \"layer2.2.bn3.bias\", \"layer2.3.conv3.weight\", \"layer2.3.bn3.running_var\", \"layer2.3.bn3.weight\", \"layer2.3.bn3.running_mean\", \"layer2.3.bn3.bias\", \"layer2.4.conv1.weight\", \"layer2.4.bn1.running_var\", \"layer2.4.bn1.weight\", \"layer2.4.bn1.running_mean\", \"layer2.4.bn1.bias\", \"layer2.4.conv2.weight\", \"layer2.4.bn2.running_var\", \"layer2.4.bn2.weight\", \"layer2.4.bn2.running_mean\", \"layer2.4.bn2.bias\", \"layer2.4.conv3.weight\", \"layer2.4.bn3.running_var\", \"layer2.4.bn3.weight\", \"layer2.4.bn3.running_mean\", \"layer2.4.bn3.bias\", \"layer2.5.conv1.weight\", \"layer2.5.bn1.running_var\", \"layer2.5.bn1.weight\", \"layer2.5.bn1.running_mean\", \"layer2.5.bn1.bias\", \"layer2.5.conv2.weight\", \"layer2.5.bn2.running_var\", \"layer2.5.bn2.weight\", \"layer2.5.bn2.running_mean\", \"layer2.5.bn2.bias\", \"layer2.5.conv3.weight\", \"layer2.5.bn3.running_var\", \"layer2.5.bn3.weight\", \"layer2.5.bn3.running_mean\", \"layer2.5.bn3.bias\", \"layer2.6.conv1.weight\", \"layer2.6.bn1.running_var\", \"layer2.6.bn1.weight\", \"layer2.6.bn1.running_mean\", \"layer2.6.bn1.bias\", \"layer2.6.conv2.weight\", \"layer2.6.bn2.running_var\", \"layer2.6.bn2.weight\", \"layer2.6.bn2.running_mean\", \"layer2.6.bn2.bias\", \"layer2.6.conv3.weight\", \"layer2.6.bn3.running_var\", \"layer2.6.bn3.weight\", \"layer2.6.bn3.running_mean\", \"layer2.6.bn3.bias\", \"layer2.7.conv1.weight\", \"layer2.7.bn1.running_var\", \"layer2.7.bn1.weight\", \"layer2.7.bn1.running_mean\", \"layer2.7.bn1.bias\", \"layer2.7.conv2.weight\", \"layer2.7.bn2.running_var\", \"layer2.7.bn2.weight\", \"layer2.7.bn2.running_mean\", \"layer2.7.bn2.bias\", \"layer2.7.conv3.weight\", \"layer2.7.bn3.running_var\", \"layer2.7.bn3.weight\", \"layer2.7.bn3.running_mean\", \"layer2.7.bn3.bias\", \"layer3.0.conv3.weight\", \"layer3.0.bn3.running_var\", \"layer3.0.bn3.weight\", \"layer3.0.bn3.running_mean\", \"layer3.0.bn3.bias\", \"layer3.1.conv3.weight\", \"layer3.1.bn3.running_var\", \"layer3.1.bn3.weight\", \"layer3.1.bn3.running_mean\", \"layer3.1.bn3.bias\", \"layer3.2.conv3.weight\", \"layer3.2.bn3.running_var\", \"layer3.2.bn3.weight\", \"layer3.2.bn3.running_mean\", \"layer3.2.bn3.bias\", \"layer3.3.conv3.weight\", \"layer3.3.bn3.running_var\", \"layer3.3.bn3.weight\", \"layer3.3.bn3.running_mean\", \"layer3.3.bn3.bias\", \"layer3.4.conv3.weight\", \"layer3.4.bn3.running_var\", \"layer3.4.bn3.weight\", \"layer3.4.bn3.running_mean\", \"layer3.4.bn3.bias\", \"layer3.5.conv3.weight\", \"layer3.5.bn3.running_var\", \"layer3.5.bn3.weight\", \"layer3.5.bn3.running_mean\", \"layer3.5.bn3.bias\", \"layer3.6.conv1.weight\", \"layer3.6.bn1.running_var\", \"layer3.6.bn1.weight\", \"layer3.6.bn1.running_mean\", \"layer3.6.bn1.bias\", \"layer3.6.conv2.weight\", \"layer3.6.bn2.running_var\", \"layer3.6.bn2.weight\", \"layer3.6.bn2.running_mean\", \"layer3.6.bn2.bias\", \"layer3.6.conv3.weight\", \"layer3.6.bn3.running_var\", \"layer3.6.bn3.weight\", \"layer3.6.bn3.running_mean\", \"layer3.6.bn3.bias\", \"layer3.7.conv1.weight\", \"layer3.7.bn1.running_var\", \"layer3.7.bn1.weight\", \"layer3.7.bn1.running_mean\", \"layer3.7.bn1.bias\", \"layer3.7.conv2.weight\", \"layer3.7.bn2.running_var\", \"layer3.7.bn2.weight\", \"layer3.7.bn2.running_mean\", \"layer3.7.bn2.bias\", \"layer3.7.conv3.weight\", \"layer3.7.bn3.running_var\", \"layer3.7.bn3.weight\", \"layer3.7.bn3.running_mean\", \"layer3.7.bn3.bias\", \"layer3.8.conv1.weight\", \"layer3.8.bn1.running_var\", \"layer3.8.bn1.weight\", \"layer3.8.bn1.running_mean\", \"layer3.8.bn1.bias\", \"layer3.8.conv2.weight\", \"layer3.8.bn2.running_var\", \"layer3.8.bn2.weight\", \"layer3.8.bn2.running_mean\", \"layer3.8.bn2.bias\", \"layer3.8.conv3.weight\", \"layer3.8.bn3.running_var\", \"layer3.8.bn3.weight\", \"layer3.8.bn3.running_mean\", \"layer3.8.bn3.bias\", \"layer3.9.conv1.weight\", \"layer3.9.bn1.running_var\", \"layer3.9.bn1.weight\", \"layer3.9.bn1.running_mean\", \"layer3.9.bn1.bias\", \"layer3.9.conv2.weight\", \"layer3.9.bn2.running_var\", \"layer3.9.bn2.weight\", \"layer3.9.bn2.running_mean\", \"layer3.9.bn2.bias\", \"layer3.9.conv3.weight\", \"layer3.9.bn3.running_var\", \"layer3.9.bn3.weight\", \"layer3.9.bn3.running_mean\", \"layer3.9.bn3.bias\", \"layer3.10.conv1.weight\", \"layer3.10.bn1.running_var\", \"layer3.10.bn1.weight\", \"layer3.10.bn1.running_mean\", \"layer3.10.bn1.bias\", \"layer3.10.conv2.weight\", \"layer3.10.bn2.running_var\", \"layer3.10.bn2.weight\", \"layer3.10.bn2.running_mean\", \"layer3.10.bn2.bias\", \"layer3.10.conv3.weight\", \"layer3.10.bn3.running_var\", \"layer3.10.bn3.weight\", \"layer3.10.bn3.running_mean\", \"layer3.10.bn3.bias\", \"layer3.11.conv1.weight\", \"layer3.11.bn1.running_var\", \"layer3.11.bn1.weight\", \"layer3.11.bn1.running_mean\", \"layer3.11.bn1.bias\", \"layer3.11.conv2.weight\", \"layer3.11.bn2.running_var\", \"layer3.11.bn2.weight\", \"layer3.11.bn2.running_mean\", \"layer3.11.bn2.bias\", \"layer3.11.conv3.weight\", \"layer3.11.bn3.running_var\", \"layer3.11.bn3.weight\", \"layer3.11.bn3.running_mean\", \"layer3.11.bn3.bias\", \"layer3.12.conv1.weight\", \"layer3.12.bn1.running_var\", \"layer3.12.bn1.weight\", \"layer3.12.bn1.running_mean\", \"layer3.12.bn1.bias\", \"layer3.12.conv2.weight\", \"layer3.12.bn2.running_var\", \"layer3.12.bn2.weight\", \"layer3.12.bn2.running_mean\", \"layer3.12.bn2.bias\", \"layer3.12.conv3.weight\", \"layer3.12.bn3.running_var\", \"layer3.12.bn3.weight\", \"layer3.12.bn3.running_mean\", \"layer3.12.bn3.bias\", \"layer3.13.conv1.weight\", \"layer3.13.bn1.running_var\", \"layer3.13.bn1.weight\", \"layer3.13.bn1.running_mean\", \"layer3.13.bn1.bias\", \"layer3.13.conv2.weight\", \"layer3.13.bn2.running_var\", \"layer3.13.bn2.weight\", \"layer3.13.bn2.running_mean\", \"layer3.13.bn2.bias\", \"layer3.13.conv3.weight\", \"layer3.13.bn3.running_var\", \"layer3.13.bn3.weight\", \"layer3.13.bn3.running_mean\", \"layer3.13.bn3.bias\", \"layer3.14.conv1.weight\", \"layer3.14.bn1.running_var\", \"layer3.14.bn1.weight\", \"layer3.14.bn1.running_mean\", \"layer3.14.bn1.bias\", \"layer3.14.conv2.weight\", \"layer3.14.bn2.running_var\", \"layer3.14.bn2.weight\", \"layer3.14.bn2.running_mean\", \"layer3.14.bn2.bias\", \"layer3.14.conv3.weight\", \"layer3.14.bn3.running_var\", \"layer3.14.bn3.weight\", \"layer3.14.bn3.running_mean\", \"layer3.14.bn3.bias\", \"layer3.15.conv1.weight\", \"layer3.15.bn1.running_var\", \"layer3.15.bn1.weight\", \"layer3.15.bn1.running_mean\", \"layer3.15.bn1.bias\", \"layer3.15.conv2.weight\", \"layer3.15.bn2.running_var\", \"layer3.15.bn2.weight\", \"layer3.15.bn2.running_mean\", \"layer3.15.bn2.bias\", \"layer3.15.conv3.weight\", \"layer3.15.bn3.running_var\", \"layer3.15.bn3.weight\", \"layer3.15.bn3.running_mean\", \"layer3.15.bn3.bias\", \"layer3.16.conv1.weight\", \"layer3.16.bn1.running_var\", \"layer3.16.bn1.weight\", \"layer3.16.bn1.running_mean\", \"layer3.16.bn1.bias\", \"layer3.16.conv2.weight\", \"layer3.16.bn2.running_var\", \"layer3.16.bn2.weight\", \"layer3.16.bn2.running_mean\", \"layer3.16.bn2.bias\", \"layer3.16.conv3.weight\", \"layer3.16.bn3.running_var\", \"layer3.16.bn3.weight\", \"layer3.16.bn3.running_mean\", \"layer3.16.bn3.bias\", \"layer3.17.conv1.weight\", \"layer3.17.bn1.running_var\", \"layer3.17.bn1.weight\", \"layer3.17.bn1.running_mean\", \"layer3.17.bn1.bias\", \"layer3.17.conv2.weight\", \"layer3.17.bn2.running_var\", \"layer3.17.bn2.weight\", \"layer3.17.bn2.running_mean\", \"layer3.17.bn2.bias\", \"layer3.17.conv3.weight\", \"layer3.17.bn3.running_var\", \"layer3.17.bn3.weight\", \"layer3.17.bn3.running_mean\", \"layer3.17.bn3.bias\", \"layer3.18.conv1.weight\", \"layer3.18.bn1.running_var\", \"layer3.18.bn1.weight\", \"layer3.18.bn1.running_mean\", \"layer3.18.bn1.bias\", \"layer3.18.conv2.weight\", \"layer3.18.bn2.running_var\", \"layer3.18.bn2.weight\", \"layer3.18.bn2.running_mean\", \"layer3.18.bn2.bias\", \"layer3.18.conv3.weight\", \"layer3.18.bn3.running_var\", \"layer3.18.bn3.weight\", \"layer3.18.bn3.running_mean\", \"layer3.18.bn3.bias\", \"layer3.19.conv1.weight\", \"layer3.19.bn1.running_var\", \"layer3.19.bn1.weight\", \"layer3.19.bn1.running_mean\", \"layer3.19.bn1.bias\", \"layer3.19.conv2.weight\", \"layer3.19.bn2.running_var\", \"layer3.19.bn2.weight\", \"layer3.19.bn2.running_mean\", \"layer3.19.bn2.bias\", \"layer3.19.conv3.weight\", \"layer3.19.bn3.running_var\", \"layer3.19.bn3.weight\", \"layer3.19.bn3.running_mean\", \"layer3.19.bn3.bias\", \"layer3.20.conv1.weight\", \"layer3.20.bn1.running_var\", \"layer3.20.bn1.weight\", \"layer3.20.bn1.running_mean\", \"layer3.20.bn1.bias\", \"layer3.20.conv2.weight\", \"layer3.20.bn2.running_var\", \"layer3.20.bn2.weight\", \"layer3.20.bn2.running_mean\", \"layer3.20.bn2.bias\", \"layer3.20.conv3.weight\", \"layer3.20.bn3.running_var\", \"layer3.20.bn3.weight\", \"layer3.20.bn3.running_mean\", \"layer3.20.bn3.bias\", \"layer3.21.conv1.weight\", \"layer3.21.bn1.running_var\", \"layer3.21.bn1.weight\", \"layer3.21.bn1.running_mean\", \"layer3.21.bn1.bias\", \"layer3.21.conv2.weight\", \"layer3.21.bn2.running_var\", \"layer3.21.bn2.weight\", \"layer3.21.bn2.running_mean\", \"layer3.21.bn2.bias\", \"layer3.21.conv3.weight\", \"layer3.21.bn3.running_var\", \"layer3.21.bn3.weight\", \"layer3.21.bn3.running_mean\", \"layer3.21.bn3.bias\", \"layer3.22.conv1.weight\", \"layer3.22.bn1.running_var\", \"layer3.22.bn1.weight\", \"layer3.22.bn1.running_mean\", \"layer3.22.bn1.bias\", \"layer3.22.conv2.weight\", \"layer3.22.bn2.running_var\", \"layer3.22.bn2.weight\", \"layer3.22.bn2.running_mean\", \"layer3.22.bn2.bias\", \"layer3.22.conv3.weight\", \"layer3.22.bn3.running_var\", \"layer3.22.bn3.weight\", \"layer3.22.bn3.running_mean\", \"layer3.22.bn3.bias\", \"layer3.23.conv1.weight\", \"layer3.23.bn1.running_var\", \"layer3.23.bn1.weight\", \"layer3.23.bn1.running_mean\", \"layer3.23.bn1.bias\", \"layer3.23.conv2.weight\", \"layer3.23.bn2.running_var\", \"layer3.23.bn2.weight\", \"layer3.23.bn2.running_mean\", \"layer3.23.bn2.bias\", \"layer3.23.conv3.weight\", \"layer3.23.bn3.running_var\", \"layer3.23.bn3.weight\", \"layer3.23.bn3.running_mean\", \"layer3.23.bn3.bias\", \"layer3.24.conv1.weight\", \"layer3.24.bn1.running_var\", \"layer3.24.bn1.weight\", \"layer3.24.bn1.running_mean\", \"layer3.24.bn1.bias\", \"layer3.24.conv2.weight\", \"layer3.24.bn2.running_var\", \"layer3.24.bn2.weight\", \"layer3.24.bn2.running_mean\", \"layer3.24.bn2.bias\", \"layer3.24.conv3.weight\", \"layer3.24.bn3.running_var\", \"layer3.24.bn3.weight\", \"layer3.24.bn3.running_mean\", \"layer3.24.bn3.bias\", \"layer3.25.conv1.weight\", \"layer3.25.bn1.running_var\", \"layer3.25.bn1.weight\", \"layer3.25.bn1.running_mean\", \"layer3.25.bn1.bias\", \"layer3.25.conv2.weight\", \"layer3.25.bn2.running_var\", \"layer3.25.bn2.weight\", \"layer3.25.bn2.running_mean\", \"layer3.25.bn2.bias\", \"layer3.25.conv3.weight\", \"layer3.25.bn3.running_var\", \"layer3.25.bn3.weight\", \"layer3.25.bn3.running_mean\", \"layer3.25.bn3.bias\", \"layer3.26.conv1.weight\", \"layer3.26.bn1.running_var\", \"layer3.26.bn1.weight\", \"layer3.26.bn1.running_mean\", \"layer3.26.bn1.bias\", \"layer3.26.conv2.weight\", \"layer3.26.bn2.running_var\", \"layer3.26.bn2.weight\", \"layer3.26.bn2.running_mean\", \"layer3.26.bn2.bias\", \"layer3.26.conv3.weight\", \"layer3.26.bn3.running_var\", \"layer3.26.bn3.weight\", \"layer3.26.bn3.running_mean\", \"layer3.26.bn3.bias\", \"layer3.27.conv1.weight\", \"layer3.27.bn1.running_var\", \"layer3.27.bn1.weight\", \"layer3.27.bn1.running_mean\", \"layer3.27.bn1.bias\", \"layer3.27.conv2.weight\", \"layer3.27.bn2.running_var\", \"layer3.27.bn2.weight\", \"layer3.27.bn2.running_mean\", \"layer3.27.bn2.bias\", \"layer3.27.conv3.weight\", \"layer3.27.bn3.running_var\", \"layer3.27.bn3.weight\", \"layer3.27.bn3.running_mean\", \"layer3.27.bn3.bias\", \"layer3.28.conv1.weight\", \"layer3.28.bn1.running_var\", \"layer3.28.bn1.weight\", \"layer3.28.bn1.running_mean\", \"layer3.28.bn1.bias\", \"layer3.28.conv2.weight\", \"layer3.28.bn2.running_var\", \"layer3.28.bn2.weight\", \"layer3.28.bn2.running_mean\", \"layer3.28.bn2.bias\", \"layer3.28.conv3.weight\", \"layer3.28.bn3.running_var\", \"layer3.28.bn3.weight\", \"layer3.28.bn3.running_mean\", \"layer3.28.bn3.bias\", \"layer3.29.conv1.weight\", \"layer3.29.bn1.running_var\", \"layer3.29.bn1.weight\", \"layer3.29.bn1.running_mean\", \"layer3.29.bn1.bias\", \"layer3.29.conv2.weight\", \"layer3.29.bn2.running_var\", \"layer3.29.bn2.weight\", \"layer3.29.bn2.running_mean\", \"layer3.29.bn2.bias\", \"layer3.29.conv3.weight\", \"layer3.29.bn3.running_var\", \"layer3.29.bn3.weight\", \"layer3.29.bn3.running_mean\", \"layer3.29.bn3.bias\", \"layer3.30.conv1.weight\", \"layer3.30.bn1.running_var\", \"layer3.30.bn1.weight\", \"layer3.30.bn1.running_mean\", \"layer3.30.bn1.bias\", \"layer3.30.conv2.weight\", \"layer3.30.bn2.running_var\", \"layer3.30.bn2.weight\", \"layer3.30.bn2.running_mean\", \"layer3.30.bn2.bias\", \"layer3.30.conv3.weight\", \"layer3.30.bn3.running_var\", \"layer3.30.bn3.weight\", \"layer3.30.bn3.running_mean\", \"layer3.30.bn3.bias\", \"layer3.31.conv1.weight\", \"layer3.31.bn1.running_var\", \"layer3.31.bn1.weight\", \"layer3.31.bn1.running_mean\", \"layer3.31.bn1.bias\", \"layer3.31.conv2.weight\", \"layer3.31.bn2.running_var\", \"layer3.31.bn2.weight\", \"layer3.31.bn2.running_mean\", \"layer3.31.bn2.bias\", \"layer3.31.conv3.weight\", \"layer3.31.bn3.running_var\", \"layer3.31.bn3.weight\", \"layer3.31.bn3.running_mean\", \"layer3.31.bn3.bias\", \"layer3.32.conv1.weight\", \"layer3.32.bn1.running_var\", \"layer3.32.bn1.weight\", \"layer3.32.bn1.running_mean\", \"layer3.32.bn1.bias\", \"layer3.32.conv2.weight\", \"layer3.32.bn2.running_var\", \"layer3.32.bn2.weight\", \"layer3.32.bn2.running_mean\", \"layer3.32.bn2.bias\", \"layer3.32.conv3.weight\", \"layer3.32.bn3.running_var\", \"layer3.32.bn3.weight\", \"layer3.32.bn3.running_mean\", \"layer3.32.bn3.bias\", \"layer3.33.conv1.weight\", \"layer3.33.bn1.running_var\", \"layer3.33.bn1.weight\", \"layer3.33.bn1.running_mean\", \"layer3.33.bn1.bias\", \"layer3.33.conv2.weight\", \"layer3.33.bn2.running_var\", \"layer3.33.bn2.weight\", \"layer3.33.bn2.running_mean\", \"layer3.33.bn2.bias\", \"layer3.33.conv3.weight\", \"layer3.33.bn3.running_var\", \"layer3.33.bn3.weight\", \"layer3.33.bn3.running_mean\", \"layer3.33.bn3.bias\", \"layer3.34.conv1.weight\", \"layer3.34.bn1.running_var\", \"layer3.34.bn1.weight\", \"layer3.34.bn1.running_mean\", \"layer3.34.bn1.bias\", \"layer3.34.conv2.weight\", \"layer3.34.bn2.running_var\", \"layer3.34.bn2.weight\", \"layer3.34.bn2.running_mean\", \"layer3.34.bn2.bias\", \"layer3.34.conv3.weight\", \"layer3.34.bn3.running_var\", \"layer3.34.bn3.weight\", \"layer3.34.bn3.running_mean\", \"layer3.34.bn3.bias\", \"layer3.35.conv1.weight\", \"layer3.35.bn1.running_var\", \"layer3.35.bn1.weight\", \"layer3.35.bn1.running_mean\", \"layer3.35.bn1.bias\", \"layer3.35.conv2.weight\", \"layer3.35.bn2.running_var\", \"layer3.35.bn2.weight\", \"layer3.35.bn2.running_mean\", \"layer3.35.bn2.bias\", \"layer3.35.conv3.weight\", \"layer3.35.bn3.running_var\", \"layer3.35.bn3.weight\", \"layer3.35.bn3.running_mean\", \"layer3.35.bn3.bias\", \"layer4.0.conv3.weight\", \"layer4.0.bn3.running_var\", \"layer4.0.bn3.weight\", \"layer4.0.bn3.running_mean\", \"layer4.0.bn3.bias\", \"layer4.1.conv3.weight\", \"layer4.1.bn3.running_var\", \"layer4.1.bn3.weight\", \"layer4.1.bn3.running_mean\", \"layer4.1.bn3.bias\", \"layer4.2.conv3.weight\", \"layer4.2.bn3.running_var\", \"layer4.2.bn3.weight\", \"layer4.2.bn3.running_mean\", \"layer4.2.bn3.bias\". \n\tsize mismatch for layer1.0.conv1.weight: copying a param with shape torch.Size([64, 64, 3, 3]) from checkpoint, the shape in current model is torch.Size([64, 64, 1, 1]).\n\tsize mismatch for layer1.1.conv1.weight: copying a param with shape torch.Size([64, 64, 3, 3]) from checkpoint, the shape in current model is torch.Size([64, 256, 1, 1]).\n\tsize mismatch for layer1.2.conv1.weight: copying a param with shape torch.Size([64, 64, 3, 3]) from checkpoint, the shape in current model is torch.Size([64, 256, 1, 1]).\n\tsize mismatch for layer2.0.conv1.weight: copying a param with shape torch.Size([128, 64, 3, 3]) from checkpoint, the shape in current model is torch.Size([128, 256, 1, 1]).\n\tsize mismatch for layer2.0.downsample.0.weight: copying a param with shape torch.Size([128, 64, 1, 1]) from checkpoint, the shape in current model is torch.Size([512, 256, 1, 1]).\n\tsize mismatch for layer2.0.downsample.1.running_var: copying a param with shape torch.Size([128]) from checkpoint, the shape in current model is torch.Size([512]).\n\tsize mismatch for layer2.0.downsample.1.weight: copying a param with shape torch.Size([128]) from checkpoint, the shape in current model is torch.Size([512]).\n\tsize mismatch for layer2.0.downsample.1.running_mean: copying a param with shape torch.Size([128]) from checkpoint, the shape in current model is torch.Size([512]).\n\tsize mismatch for layer2.0.downsample.1.bias: copying a param with shape torch.Size([128]) from checkpoint, the shape in current model is torch.Size([512]).\n\tsize mismatch for layer2.1.conv1.weight: copying a param with shape torch.Size([128, 128, 3, 3]) from checkpoint, the shape in current model is torch.Size([128, 512, 1, 1]).\n\tsize mismatch for layer2.2.conv1.weight: copying a param with shape torch.Size([128, 128, 3, 3]) from checkpoint, the shape in current model is torch.Size([128, 512, 1, 1]).\n\tsize mismatch for layer2.3.conv1.weight: copying a param with shape torch.Size([128, 128, 3, 3]) from checkpoint, the shape in current model is torch.Size([128, 512, 1, 1]).\n\tsize mismatch for layer3.0.conv1.weight: copying a param with shape torch.Size([256, 128, 3, 3]) from checkpoint, the shape in current model is torch.Size([256, 512, 1, 1]).\n\tsize mismatch for layer3.0.downsample.0.weight: copying a param with shape torch.Size([256, 128, 1, 1]) from checkpoint, the shape in current model is torch.Size([1024, 512, 1, 1]).\n\tsize mismatch for layer3.0.downsample.1.running_var: copying a param with shape torch.Size([256]) from checkpoint, the shape in current model is torch.Size([1024]).\n\tsize mismatch for layer3.0.downsample.1.weight: copying a param with shape torch.Size([256]) from checkpoint, the shape in current model is torch.Size([1024]).\n\tsize mismatch for layer3.0.downsample.1.running_mean: copying a param with shape torch.Size([256]) from checkpoint, the shape in current model is torch.Size([1024]).\n\tsize mismatch for layer3.0.downsample.1.bias: copying a param with shape torch.Size([256]) from checkpoint, the shape in current model is torch.Size([1024]).\n\tsize mismatch for layer3.1.conv1.weight: copying a param with shape torch.Size([256, 256, 3, 3]) from checkpoint, the shape in current model is torch.Size([256, 1024, 1, 1]).\n\tsize mismatch for layer3.2.conv1.weight: copying a param with shape torch.Size([256, 256, 3, 3]) from checkpoint, the shape in current model is torch.Size([256, 1024, 1, 1]).\n\tsize mismatch for layer3.3.conv1.weight: copying a param with shape torch.Size([256, 256, 3, 3]) from checkpoint, the shape in current model is torch.Size([256, 1024, 1, 1]).\n\tsize mismatch for layer3.4.conv1.weight: copying a param with shape torch.Size([256, 256, 3, 3]) from checkpoint, the shape in current model is torch.Size([256, 1024, 1, 1]).\n\tsize mismatch for layer3.5.conv1.weight: copying a param with shape torch.Size([256, 256, 3, 3]) from checkpoint, the shape in current model is torch.Size([256, 1024, 1, 1]).\n\tsize mismatch for layer4.0.conv1.weight: copying a param with shape torch.Size([512, 256, 3, 3]) from checkpoint, the shape in current model is torch.Size([512, 1024, 1, 1]).\n\tsize mismatch for layer4.0.downsample.0.weight: copying a param with shape torch.Size([512, 256, 1, 1]) from checkpoint, the shape in current model is torch.Size([2048, 1024, 1, 1]).\n\tsize mismatch for layer4.0.downsample.1.running_var: copying a param with shape torch.Size([512]) from checkpoint, the shape in current model is torch.Size([2048]).\n\tsize mismatch for layer4.0.downsample.1.weight: copying a param with shape torch.Size([512]) from checkpoint, the shape in current model is torch.Size([2048]).\n\tsize mismatch for layer4.0.downsample.1.running_mean: copying a param with shape torch.Size([512]) from checkpoint, the shape in current model is torch.Size([2048]).\n\tsize mismatch for layer4.0.downsample.1.bias: copying a param with shape torch.Size([512]) from checkpoint, the shape in current model is torch.Size([2048]).\n\tsize mismatch for layer4.1.conv1.weight: copying a param with shape torch.Size([512, 512, 3, 3]) from checkpoint, the shape in current model is torch.Size([512, 2048, 1, 1]).\n\tsize mismatch for layer4.2.conv1.weight: copying a param with shape torch.Size([512, 512, 3, 3]) from checkpoint, the shape in current model is torch.Size([512, 2048, 1, 1]).\n\tsize mismatch for fc.weight: copying a param with shape torch.Size([20, 512]) from checkpoint, the shape in current model is torch.Size([20, 2048]).",
     "output_type": "error",
     "traceback": [
      "\u001b[1;31m---------------------------------------------------------------------------\u001b[0m",
      "\u001b[1;31mRuntimeError\u001b[0m                              Traceback (most recent call last)",
      "\u001b[1;32m~\\Desktop\\Kaggle\\main.py\u001b[0m in \u001b[0;36m<module>\u001b[1;34m()\u001b[0m\n\u001b[0;32m    101\u001b[0m \u001b[0mset_parameter_requires_grad\u001b[0m\u001b[1;33m(\u001b[0m\u001b[0mmodel\u001b[0m\u001b[1;33m,\u001b[0m \u001b[0mfeature_extracting\u001b[0m\u001b[1;33m=\u001b[0m\u001b[1;32mFalse\u001b[0m\u001b[1;33m)\u001b[0m\u001b[1;33m\u001b[0m\u001b[0m\n\u001b[0;32m    102\u001b[0m \u001b[1;33m\u001b[0m\u001b[0m\n\u001b[1;32m--> 103\u001b[1;33m \u001b[0mmodel\u001b[0m\u001b[1;33m.\u001b[0m\u001b[0mload_state_dict\u001b[0m\u001b[1;33m(\u001b[0m\u001b[0mtorch\u001b[0m\u001b[1;33m.\u001b[0m\u001b[0mload\u001b[0m\u001b[1;33m(\u001b[0m\u001b[1;34m'experiment/model_6.pth'\u001b[0m\u001b[1;33m)\u001b[0m\u001b[1;33m)\u001b[0m\u001b[1;33m\u001b[0m\u001b[0m\n\u001b[0m\u001b[0;32m    104\u001b[0m \u001b[1;33m\u001b[0m\u001b[0m\n\u001b[0;32m    105\u001b[0m \u001b[1;33m\u001b[0m\u001b[0m\n",
      "\u001b[1;32mc:\\users\\alixa\\appdata\\local\\programs\\python\\python35\\lib\\site-packages\\torch\\nn\\modules\\module.py\u001b[0m in \u001b[0;36mload_state_dict\u001b[1;34m(self, state_dict, strict)\u001b[0m\n\u001b[0;32m    837\u001b[0m         \u001b[1;32mif\u001b[0m \u001b[0mlen\u001b[0m\u001b[1;33m(\u001b[0m\u001b[0merror_msgs\u001b[0m\u001b[1;33m)\u001b[0m \u001b[1;33m>\u001b[0m \u001b[1;36m0\u001b[0m\u001b[1;33m:\u001b[0m\u001b[1;33m\u001b[0m\u001b[0m\n\u001b[0;32m    838\u001b[0m             raise RuntimeError('Error(s) in loading state_dict for {}:\\n\\t{}'.format(\n\u001b[1;32m--> 839\u001b[1;33m                                self.__class__.__name__, \"\\n\\t\".join(error_msgs)))\n\u001b[0m\u001b[0;32m    840\u001b[0m         \u001b[1;32mreturn\u001b[0m \u001b[0m_IncompatibleKeys\u001b[0m\u001b[1;33m(\u001b[0m\u001b[0mmissing_keys\u001b[0m\u001b[1;33m,\u001b[0m \u001b[0munexpected_keys\u001b[0m\u001b[1;33m)\u001b[0m\u001b[1;33m\u001b[0m\u001b[0m\n\u001b[0;32m    841\u001b[0m \u001b[1;33m\u001b[0m\u001b[0m\n",
      "\u001b[1;31mRuntimeError\u001b[0m: Error(s) in loading state_dict for ResNet:\n\tMissing key(s) in state_dict: \"layer1.0.conv3.weight\", \"layer1.0.bn3.running_var\", \"layer1.0.bn3.weight\", \"layer1.0.bn3.running_mean\", \"layer1.0.bn3.bias\", \"layer1.0.downsample.0.weight\", \"layer1.0.downsample.1.running_var\", \"layer1.0.downsample.1.weight\", \"layer1.0.downsample.1.running_mean\", \"layer1.0.downsample.1.bias\", \"layer1.1.conv3.weight\", \"layer1.1.bn3.running_var\", \"layer1.1.bn3.weight\", \"layer1.1.bn3.running_mean\", \"layer1.1.bn3.bias\", \"layer1.2.conv3.weight\", \"layer1.2.bn3.running_var\", \"layer1.2.bn3.weight\", \"layer1.2.bn3.running_mean\", \"layer1.2.bn3.bias\", \"layer2.0.conv3.weight\", \"layer2.0.bn3.running_var\", \"layer2.0.bn3.weight\", \"layer2.0.bn3.running_mean\", \"layer2.0.bn3.bias\", \"layer2.1.conv3.weight\", \"layer2.1.bn3.running_var\", \"layer2.1.bn3.weight\", \"layer2.1.bn3.running_mean\", \"layer2.1.bn3.bias\", \"layer2.2.conv3.weight\", \"layer2.2.bn3.running_var\", \"layer2.2.bn3.weight\", \"layer2.2.bn3.running_mean\", \"layer2.2.bn3.bias\", \"layer2.3.conv3.weight\", \"layer2.3.bn3.running_var\", \"layer2.3.bn3.weight\", \"layer2.3.bn3.running_mean\", \"layer2.3.bn3.bias\", \"layer2.4.conv1.weight\", \"layer2.4.bn1.running_var\", \"layer2.4.bn1.weight\", \"layer2.4.bn1.running_mean\", \"layer2.4.bn1.bias\", \"layer2.4.conv2.weight\", \"layer2.4.bn2.running_var\", \"layer2.4.bn2.weight\", \"layer2.4.bn2.running_mean\", \"layer2.4.bn2.bias\", \"layer2.4.conv3.weight\", \"layer2.4.bn3.running_var\", \"layer2.4.bn3.weight\", \"layer2.4.bn3.running_mean\", \"layer2.4.bn3.bias\", \"layer2.5.conv1.weight\", \"layer2.5.bn1.running_var\", \"layer2.5.bn1.weight\", \"layer2.5.bn1.running_mean\", \"layer2.5.bn1.bias\", \"layer2.5.conv2.weight\", \"layer2.5.bn2.running_var\", \"layer2.5.bn2.weight\", \"layer2.5.bn2.running_mean\", \"layer2.5.bn2.bias\", \"layer2.5.conv3.weight\", \"layer2.5.bn3.running_var\", \"layer2.5.bn3.weight\", \"layer2.5.bn3.running_mean\", \"layer2.5.bn3.bias\", \"layer2.6.conv1.weight\", \"layer2.6.bn1.running_var\", \"layer2.6.bn1.weight\", \"layer2.6.bn1.running_mean\", \"layer2.6.bn1.bias\", \"layer2.6.conv2.weight\", \"layer2.6.bn2.running_var\", \"layer2.6.bn2.weight\", \"layer2.6.bn2.running_mean\", \"layer2.6.bn2.bias\", \"layer2.6.conv3.weight\", \"layer2.6.bn3.running_var\", \"layer2.6.bn3.weight\", \"layer2.6.bn3.running_mean\", \"layer2.6.bn3.bias\", \"layer2.7.conv1.weight\", \"layer2.7.bn1.running_var\", \"layer2.7.bn1.weight\", \"layer2.7.bn1.running_mean\", \"layer2.7.bn1.bias\", \"layer2.7.conv2.weight\", \"layer2.7.bn2.running_var\", \"layer2.7.bn2.weight\", \"layer2.7.bn2.running_mean\", \"layer2.7.bn2.bias\", \"layer2.7.conv3.weight\", \"layer2.7.bn3.running_var\", \"layer2.7.bn3.weight\", \"layer2.7.bn3.running_mean\", \"layer2.7.bn3.bias\", \"layer3.0.conv3.weight\", \"layer3.0.bn3.running_var\", \"layer3.0.bn3.weight\", \"layer3.0.bn3.running_mean\", \"layer3.0.bn3.bias\", \"layer3.1.conv3.weight\", \"layer3.1.bn3.running_var\", \"layer3.1.bn3.weight\", \"layer3.1.bn3.running_mean\", \"layer3.1.bn3.bias\", \"layer3.2.conv3.weight\", \"layer3.2.bn3.running_var\", \"layer3.2.bn3.weight\", \"layer3.2.bn3.running_mean\", \"layer3.2.bn3.bias\", \"layer3.3.conv3.weight\", \"layer3.3.bn3.running_var\", \"layer3.3.bn3.weight\", \"layer3.3.bn3.running_mean\", \"layer3.3.bn3.bias\", \"layer3.4.conv3.weight\", \"layer3.4.bn3.running_var\", \"layer3.4.bn3.weight\", \"layer3.4.bn3.running_mean\", \"layer3.4.bn3.bias\", \"layer3.5.conv3.weight\", \"layer3.5.bn3.running_var\", \"layer3.5.bn3.weight\", \"layer3.5.bn3.running_mean\", \"layer3.5.bn3.bias\", \"layer3.6.conv1.weight\", \"layer3.6.bn1.running_var\", \"layer3.6.bn1.weight\", \"layer3.6.bn1.running_mean\", \"layer3.6.bn1.bias\", \"layer3.6.conv2.weight\", \"layer3.6.bn2.running_var\", \"layer3.6.bn2.weight\", \"layer3.6.bn2.running_mean\", \"layer3.6.bn2.bias\", \"layer3.6.conv3.weight\", \"layer3.6.bn3.running_var\", \"layer3.6.bn3.weight\", \"layer3.6.bn3.running_mean\", \"layer3.6.bn3.bias\", \"layer3.7.conv1.weight\", \"layer3.7.bn1.running_var\", \"layer3.7.bn1.weight\", \"layer3.7.bn1.running_mean\", \"layer3.7.bn1.bias\", \"layer3.7.conv2.weight\", \"layer3.7.bn2.running_var\", \"layer3.7.bn2.weight\", \"layer3.7.bn2.running_mean\", \"layer3.7.bn2.bias\", \"layer3.7.conv3.weight\", \"layer3.7.bn3.running_var\", \"layer3.7.bn3.weight\", \"layer3.7.bn3.running_mean\", \"layer3.7.bn3.bias\", \"layer3.8.conv1.weight\", \"layer3.8.bn1.running_var\", \"layer3.8.bn1.weight\", \"layer3.8.bn1.running_mean\", \"layer3.8.bn1.bias\", \"layer3.8.conv2.weight\", \"layer3.8.bn2.running_var\", \"layer3.8.bn2.weight\", \"layer3.8.bn2.running_mean\", \"layer3.8.bn2.bias\", \"layer3.8.conv3.weight\", \"layer3.8.bn3.running_var\", \"layer3.8.bn3.weight\", \"layer3.8.bn3.running_mean\", \"layer3.8.bn3.bias\", \"layer3.9.conv1.weight\", \"layer3.9.bn1.running_var\", \"layer3.9.bn1.weight\", \"layer3.9.bn1.running_mean\", \"layer3.9.bn1.bias\", \"layer3.9.conv2.weight\", \"layer3.9.bn2.running_var\", \"layer3.9.bn2.weight\", \"layer3.9.bn2.running_mean\", \"layer3.9.bn2.bias\", \"layer3.9.conv3.weight\", \"layer3.9.bn3.running_var\", \"layer3.9.bn3.weight\", \"layer3.9.bn3.running_mean\", \"layer3.9.bn3.bias\", \"layer3.10.conv1.weight\", \"layer3.10.bn1.running_var\", \"layer3.10.bn1.weight\", \"layer3.10.bn1.running_mean\", \"layer3.10.bn1.bias\", \"layer3.10.conv2.weight\", \"layer3.10.bn2.running_var\", \"layer3.10.bn2.weight\", \"layer3.10.bn2.running_mean\", \"layer3.10.bn2.bias\", \"layer3.10.conv3.weight\", \"layer3.10.bn3.running_var\", \"layer3.10.bn3.weight\", \"layer3.10.bn3.running_mean\", \"layer3.10.bn3.bias\", \"layer3.11.conv1.weight\", \"layer3.11.bn1.running_var\", \"layer3.11.bn1.weight\", \"layer3.11.bn1.running_mean\", \"layer3.11.bn1.bias\", \"layer3.11.conv2.weight\", \"layer3.11.bn2.running_var\", \"layer3.11.bn2.weight\", \"layer3.11.bn2.running_mean\", \"layer3.11.bn2.bias\", \"layer3.11.conv3.weight\", \"layer3.11.bn3.running_var\", \"layer3.11.bn3.weight\", \"layer3.11.bn3.running_mean\", \"layer3.11.bn3.bias\", \"layer3.12.conv1.weight\", \"layer3.12.bn1.running_var\", \"layer3.12.bn1.weight\", \"layer3.12.bn1.running_mean\", \"layer3.12.bn1.bias\", \"layer3.12.conv2.weight\", \"layer3.12.bn2.running_var\", \"layer3.12.bn2.weight\", \"layer3.12.bn2.running_mean\", \"layer3.12.bn2.bias\", \"layer3.12.conv3.weight\", \"layer3.12.bn3.running_var\", \"layer3.12.bn3.weight\", \"layer3.12.bn3.running_mean\", \"layer3.12.bn3.bias\", \"layer3.13.conv1.weight\", \"layer3.13.bn1.running_var\", \"layer3.13.bn1.weight\", \"layer3.13.bn1.running_mean\", \"layer3.13.bn1.bias\", \"layer3.13.conv2.weight\", \"layer3.13.bn2.running_var\", \"layer3.13.bn2.weight\", \"layer3.13.bn2.running_mean\", \"layer3.13.bn2.bias\", \"layer3.13.conv3.weight\", \"layer3.13.bn3.running_var\", \"layer3.13.bn3.weight\", \"layer3.13.bn3.running_mean\", \"layer3.13.bn3.bias\", \"layer3.14.conv1.weight\", \"layer3.14.bn1.running_var\", \"layer3.14.bn1.weight\", \"layer3.14.bn1.running_mean\", \"layer3.14.bn1.bias\", \"layer3.14.conv2.weight\", \"layer3.14.bn2.running_var\", \"layer3.14.bn2.weight\", \"layer3.14.bn2.running_mean\", \"layer3.14.bn2.bias\", \"layer3.14.conv3.weight\", \"layer3.14.bn3.running_var\", \"layer3.14.bn3.weight\", \"layer3.14.bn3.running_mean\", \"layer3.14.bn3.bias\", \"layer3.15.conv1.weight\", \"layer3.15.bn1.running_var\", \"layer3.15.bn1.weight\", \"layer3.15.bn1.running_mean\", \"layer3.15.bn1.bias\", \"layer3.15.conv2.weight\", \"layer3.15.bn2.running_var\", \"layer3.15.bn2.weight\", \"layer3.15.bn2.running_mean\", \"layer3.15.bn2.bias\", \"layer3.15.conv3.weight\", \"layer3.15.bn3.running_var\", \"layer3.15.bn3.weight\", \"layer3.15.bn3.running_mean\", \"layer3.15.bn3.bias\", \"layer3.16.conv1.weight\", \"layer3.16.bn1.running_var\", \"layer3.16.bn1.weight\", \"layer3.16.bn1.running_mean\", \"layer3.16.bn1.bias\", \"layer3.16.conv2.weight\", \"layer3.16.bn2.running_var\", \"layer3.16.bn2.weight\", \"layer3.16.bn2.running_mean\", \"layer3.16.bn2.bias\", \"layer3.16.conv3.weight\", \"layer3.16.bn3.running_var\", \"layer3.16.bn3.weight\", \"layer3.16.bn3.running_mean\", \"layer3.16.bn3.bias\", \"layer3.17.conv1.weight\", \"layer3.17.bn1.running_var\", \"layer3.17.bn1.weight\", \"layer3.17.bn1.running_mean\", \"layer3.17.bn1.bias\", \"layer3.17.conv2.weight\", \"layer3.17.bn2.running_var\", \"layer3.17.bn2.weight\", \"layer3.17.bn2.running_mean\", \"layer3.17.bn2.bias\", \"layer3.17.conv3.weight\", \"layer3.17.bn3.running_var\", \"layer3.17.bn3.weight\", \"layer3.17.bn3.running_mean\", \"layer3.17.bn3.bias\", \"layer3.18.conv1.weight\", \"layer3.18.bn1.running_var\", \"layer3.18.bn1.weight\", \"layer3.18.bn1.running_mean\", \"layer3.18.bn1.bias\", \"layer3.18.conv2.weight\", \"layer3.18.bn2.running_var\", \"layer3.18.bn2.weight\", \"layer3.18.bn2.running_mean\", \"layer3.18.bn2.bias\", \"layer3.18.conv3.weight\", \"layer3.18.bn3.running_var\", \"layer3.18.bn3.weight\", \"layer3.18.bn3.running_mean\", \"layer3.18.bn3.bias\", \"layer3.19.conv1.weight\", \"layer3.19.bn1.running_var\", \"layer3.19.bn1.weight\", \"layer3.19.bn1.running_mean\", \"layer3.19.bn1.bias\", \"layer3.19.conv2.weight\", \"layer3.19.bn2.running_var\", \"layer3.19.bn2.weight\", \"layer3.19.bn2.running_mean\", \"layer3.19.bn2.bias\", \"layer3.19.conv3.weight\", \"layer3.19.bn3.running_var\", \"layer3.19.bn3.weight\", \"layer3.19.bn3.running_mean\", \"layer3.19.bn3.bias\", \"layer3.20.conv1.weight\", \"layer3.20.bn1.running_var\", \"layer3.20.bn1.weight\", \"layer3.20.bn1.running_mean\", \"layer3.20.bn1.bias\", \"layer3.20.conv2.weight\", \"layer3.20.bn2.running_var\", \"layer3.20.bn2.weight\", \"layer3.20.bn2.running_mean\", \"layer3.20.bn2.bias\", \"layer3.20.conv3.weight\", \"layer3.20.bn3.running_var\", \"layer3.20.bn3.weight\", \"layer3.20.bn3.running_mean\", \"layer3.20.bn3.bias\", \"layer3.21.conv1.weight\", \"layer3.21.bn1.running_var\", \"layer3.21.bn1.weight\", \"layer3.21.bn1.running_mean\", \"layer3.21.bn1.bias\", \"layer3.21.conv2.weight\", \"layer3.21.bn2.running_var\", \"layer3.21.bn2.weight\", \"layer3.21.bn2.running_mean\", \"layer3.21.bn2.bias\", \"layer3.21.conv3.weight\", \"layer3.21.bn3.running_var\", \"layer3.21.bn3.weight\", \"layer3.21.bn3.running_mean\", \"layer3.21.bn3.bias\", \"layer3.22.conv1.weight\", \"layer3.22.bn1.running_var\", \"layer3.22.bn1.weight\", \"layer3.22.bn1.running_mean\", \"layer3.22.bn1.bias\", \"layer3.22.conv2.weight\", \"layer3.22.bn2.running_var\", \"layer3.22.bn2.weight\", \"layer3.22.bn2.running_mean\", \"layer3.22.bn2.bias\", \"layer3.22.conv3.weight\", \"layer3.22.bn3.running_var\", \"layer3.22.bn3.weight\", \"layer3.22.bn3.running_mean\", \"layer3.22.bn3.bias\", \"layer3.23.conv1.weight\", \"layer3.23.bn1.running_var\", \"layer3.23.bn1.weight\", \"layer3.23.bn1.running_mean\", \"layer3.23.bn1.bias\", \"layer3.23.conv2.weight\", \"layer3.23.bn2.running_var\", \"layer3.23.bn2.weight\", \"layer3.23.bn2.running_mean\", \"layer3.23.bn2.bias\", \"layer3.23.conv3.weight\", \"layer3.23.bn3.running_var\", \"layer3.23.bn3.weight\", \"layer3.23.bn3.running_mean\", \"layer3.23.bn3.bias\", \"layer3.24.conv1.weight\", \"layer3.24.bn1.running_var\", \"layer3.24.bn1.weight\", \"layer3.24.bn1.running_mean\", \"layer3.24.bn1.bias\", \"layer3.24.conv2.weight\", \"layer3.24.bn2.running_var\", \"layer3.24.bn2.weight\", \"layer3.24.bn2.running_mean\", \"layer3.24.bn2.bias\", \"layer3.24.conv3.weight\", \"layer3.24.bn3.running_var\", \"layer3.24.bn3.weight\", \"layer3.24.bn3.running_mean\", \"layer3.24.bn3.bias\", \"layer3.25.conv1.weight\", \"layer3.25.bn1.running_var\", \"layer3.25.bn1.weight\", \"layer3.25.bn1.running_mean\", \"layer3.25.bn1.bias\", \"layer3.25.conv2.weight\", \"layer3.25.bn2.running_var\", \"layer3.25.bn2.weight\", \"layer3.25.bn2.running_mean\", \"layer3.25.bn2.bias\", \"layer3.25.conv3.weight\", \"layer3.25.bn3.running_var\", \"layer3.25.bn3.weight\", \"layer3.25.bn3.running_mean\", \"layer3.25.bn3.bias\", \"layer3.26.conv1.weight\", \"layer3.26.bn1.running_var\", \"layer3.26.bn1.weight\", \"layer3.26.bn1.running_mean\", \"layer3.26.bn1.bias\", \"layer3.26.conv2.weight\", \"layer3.26.bn2.running_var\", \"layer3.26.bn2.weight\", \"layer3.26.bn2.running_mean\", \"layer3.26.bn2.bias\", \"layer3.26.conv3.weight\", \"layer3.26.bn3.running_var\", \"layer3.26.bn3.weight\", \"layer3.26.bn3.running_mean\", \"layer3.26.bn3.bias\", \"layer3.27.conv1.weight\", \"layer3.27.bn1.running_var\", \"layer3.27.bn1.weight\", \"layer3.27.bn1.running_mean\", \"layer3.27.bn1.bias\", \"layer3.27.conv2.weight\", \"layer3.27.bn2.running_var\", \"layer3.27.bn2.weight\", \"layer3.27.bn2.running_mean\", \"layer3.27.bn2.bias\", \"layer3.27.conv3.weight\", \"layer3.27.bn3.running_var\", \"layer3.27.bn3.weight\", \"layer3.27.bn3.running_mean\", \"layer3.27.bn3.bias\", \"layer3.28.conv1.weight\", \"layer3.28.bn1.running_var\", \"layer3.28.bn1.weight\", \"layer3.28.bn1.running_mean\", \"layer3.28.bn1.bias\", \"layer3.28.conv2.weight\", \"layer3.28.bn2.running_var\", \"layer3.28.bn2.weight\", \"layer3.28.bn2.running_mean\", \"layer3.28.bn2.bias\", \"layer3.28.conv3.weight\", \"layer3.28.bn3.running_var\", \"layer3.28.bn3.weight\", \"layer3.28.bn3.running_mean\", \"layer3.28.bn3.bias\", \"layer3.29.conv1.weight\", \"layer3.29.bn1.running_var\", \"layer3.29.bn1.weight\", \"layer3.29.bn1.running_mean\", \"layer3.29.bn1.bias\", \"layer3.29.conv2.weight\", \"layer3.29.bn2.running_var\", \"layer3.29.bn2.weight\", \"layer3.29.bn2.running_mean\", \"layer3.29.bn2.bias\", \"layer3.29.conv3.weight\", \"layer3.29.bn3.running_var\", \"layer3.29.bn3.weight\", \"layer3.29.bn3.running_mean\", \"layer3.29.bn3.bias\", \"layer3.30.conv1.weight\", \"layer3.30.bn1.running_var\", \"layer3.30.bn1.weight\", \"layer3.30.bn1.running_mean\", \"layer3.30.bn1.bias\", \"layer3.30.conv2.weight\", \"layer3.30.bn2.running_var\", \"layer3.30.bn2.weight\", \"layer3.30.bn2.running_mean\", \"layer3.30.bn2.bias\", \"layer3.30.conv3.weight\", \"layer3.30.bn3.running_var\", \"layer3.30.bn3.weight\", \"layer3.30.bn3.running_mean\", \"layer3.30.bn3.bias\", \"layer3.31.conv1.weight\", \"layer3.31.bn1.running_var\", \"layer3.31.bn1.weight\", \"layer3.31.bn1.running_mean\", \"layer3.31.bn1.bias\", \"layer3.31.conv2.weight\", \"layer3.31.bn2.running_var\", \"layer3.31.bn2.weight\", \"layer3.31.bn2.running_mean\", \"layer3.31.bn2.bias\", \"layer3.31.conv3.weight\", \"layer3.31.bn3.running_var\", \"layer3.31.bn3.weight\", \"layer3.31.bn3.running_mean\", \"layer3.31.bn3.bias\", \"layer3.32.conv1.weight\", \"layer3.32.bn1.running_var\", \"layer3.32.bn1.weight\", \"layer3.32.bn1.running_mean\", \"layer3.32.bn1.bias\", \"layer3.32.conv2.weight\", \"layer3.32.bn2.running_var\", \"layer3.32.bn2.weight\", \"layer3.32.bn2.running_mean\", \"layer3.32.bn2.bias\", \"layer3.32.conv3.weight\", \"layer3.32.bn3.running_var\", \"layer3.32.bn3.weight\", \"layer3.32.bn3.running_mean\", \"layer3.32.bn3.bias\", \"layer3.33.conv1.weight\", \"layer3.33.bn1.running_var\", \"layer3.33.bn1.weight\", \"layer3.33.bn1.running_mean\", \"layer3.33.bn1.bias\", \"layer3.33.conv2.weight\", \"layer3.33.bn2.running_var\", \"layer3.33.bn2.weight\", \"layer3.33.bn2.running_mean\", \"layer3.33.bn2.bias\", \"layer3.33.conv3.weight\", \"layer3.33.bn3.running_var\", \"layer3.33.bn3.weight\", \"layer3.33.bn3.running_mean\", \"layer3.33.bn3.bias\", \"layer3.34.conv1.weight\", \"layer3.34.bn1.running_var\", \"layer3.34.bn1.weight\", \"layer3.34.bn1.running_mean\", \"layer3.34.bn1.bias\", \"layer3.34.conv2.weight\", \"layer3.34.bn2.running_var\", \"layer3.34.bn2.weight\", \"layer3.34.bn2.running_mean\", \"layer3.34.bn2.bias\", \"layer3.34.conv3.weight\", \"layer3.34.bn3.running_var\", \"layer3.34.bn3.weight\", \"layer3.34.bn3.running_mean\", \"layer3.34.bn3.bias\", \"layer3.35.conv1.weight\", \"layer3.35.bn1.running_var\", \"layer3.35.bn1.weight\", \"layer3.35.bn1.running_mean\", \"layer3.35.bn1.bias\", \"layer3.35.conv2.weight\", \"layer3.35.bn2.running_var\", \"layer3.35.bn2.weight\", \"layer3.35.bn2.running_mean\", \"layer3.35.bn2.bias\", \"layer3.35.conv3.weight\", \"layer3.35.bn3.running_var\", \"layer3.35.bn3.weight\", \"layer3.35.bn3.running_mean\", \"layer3.35.bn3.bias\", \"layer4.0.conv3.weight\", \"layer4.0.bn3.running_var\", \"layer4.0.bn3.weight\", \"layer4.0.bn3.running_mean\", \"layer4.0.bn3.bias\", \"layer4.1.conv3.weight\", \"layer4.1.bn3.running_var\", \"layer4.1.bn3.weight\", \"layer4.1.bn3.running_mean\", \"layer4.1.bn3.bias\", \"layer4.2.conv3.weight\", \"layer4.2.bn3.running_var\", \"layer4.2.bn3.weight\", \"layer4.2.bn3.running_mean\", \"layer4.2.bn3.bias\". \n\tsize mismatch for layer1.0.conv1.weight: copying a param with shape torch.Size([64, 64, 3, 3]) from checkpoint, the shape in current model is torch.Size([64, 64, 1, 1]).\n\tsize mismatch for layer1.1.conv1.weight: copying a param with shape torch.Size([64, 64, 3, 3]) from checkpoint, the shape in current model is torch.Size([64, 256, 1, 1]).\n\tsize mismatch for layer1.2.conv1.weight: copying a param with shape torch.Size([64, 64, 3, 3]) from checkpoint, the shape in current model is torch.Size([64, 256, 1, 1]).\n\tsize mismatch for layer2.0.conv1.weight: copying a param with shape torch.Size([128, 64, 3, 3]) from checkpoint, the shape in current model is torch.Size([128, 256, 1, 1]).\n\tsize mismatch for layer2.0.downsample.0.weight: copying a param with shape torch.Size([128, 64, 1, 1]) from checkpoint, the shape in current model is torch.Size([512, 256, 1, 1]).\n\tsize mismatch for layer2.0.downsample.1.running_var: copying a param with shape torch.Size([128]) from checkpoint, the shape in current model is torch.Size([512]).\n\tsize mismatch for layer2.0.downsample.1.weight: copying a param with shape torch.Size([128]) from checkpoint, the shape in current model is torch.Size([512]).\n\tsize mismatch for layer2.0.downsample.1.running_mean: copying a param with shape torch.Size([128]) from checkpoint, the shape in current model is torch.Size([512]).\n\tsize mismatch for layer2.0.downsample.1.bias: copying a param with shape torch.Size([128]) from checkpoint, the shape in current model is torch.Size([512]).\n\tsize mismatch for layer2.1.conv1.weight: copying a param with shape torch.Size([128, 128, 3, 3]) from checkpoint, the shape in current model is torch.Size([128, 512, 1, 1]).\n\tsize mismatch for layer2.2.conv1.weight: copying a param with shape torch.Size([128, 128, 3, 3]) from checkpoint, the shape in current model is torch.Size([128, 512, 1, 1]).\n\tsize mismatch for layer2.3.conv1.weight: copying a param with shape torch.Size([128, 128, 3, 3]) from checkpoint, the shape in current model is torch.Size([128, 512, 1, 1]).\n\tsize mismatch for layer3.0.conv1.weight: copying a param with shape torch.Size([256, 128, 3, 3]) from checkpoint, the shape in current model is torch.Size([256, 512, 1, 1]).\n\tsize mismatch for layer3.0.downsample.0.weight: copying a param with shape torch.Size([256, 128, 1, 1]) from checkpoint, the shape in current model is torch.Size([1024, 512, 1, 1]).\n\tsize mismatch for layer3.0.downsample.1.running_var: copying a param with shape torch.Size([256]) from checkpoint, the shape in current model is torch.Size([1024]).\n\tsize mismatch for layer3.0.downsample.1.weight: copying a param with shape torch.Size([256]) from checkpoint, the shape in current model is torch.Size([1024]).\n\tsize mismatch for layer3.0.downsample.1.running_mean: copying a param with shape torch.Size([256]) from checkpoint, the shape in current model is torch.Size([1024]).\n\tsize mismatch for layer3.0.downsample.1.bias: copying a param with shape torch.Size([256]) from checkpoint, the shape in current model is torch.Size([1024]).\n\tsize mismatch for layer3.1.conv1.weight: copying a param with shape torch.Size([256, 256, 3, 3]) from checkpoint, the shape in current model is torch.Size([256, 1024, 1, 1]).\n\tsize mismatch for layer3.2.conv1.weight: copying a param with shape torch.Size([256, 256, 3, 3]) from checkpoint, the shape in current model is torch.Size([256, 1024, 1, 1]).\n\tsize mismatch for layer3.3.conv1.weight: copying a param with shape torch.Size([256, 256, 3, 3]) from checkpoint, the shape in current model is torch.Size([256, 1024, 1, 1]).\n\tsize mismatch for layer3.4.conv1.weight: copying a param with shape torch.Size([256, 256, 3, 3]) from checkpoint, the shape in current model is torch.Size([256, 1024, 1, 1]).\n\tsize mismatch for layer3.5.conv1.weight: copying a param with shape torch.Size([256, 256, 3, 3]) from checkpoint, the shape in current model is torch.Size([256, 1024, 1, 1]).\n\tsize mismatch for layer4.0.conv1.weight: copying a param with shape torch.Size([512, 256, 3, 3]) from checkpoint, the shape in current model is torch.Size([512, 1024, 1, 1]).\n\tsize mismatch for layer4.0.downsample.0.weight: copying a param with shape torch.Size([512, 256, 1, 1]) from checkpoint, the shape in current model is torch.Size([2048, 1024, 1, 1]).\n\tsize mismatch for layer4.0.downsample.1.running_var: copying a param with shape torch.Size([512]) from checkpoint, the shape in current model is torch.Size([2048]).\n\tsize mismatch for layer4.0.downsample.1.weight: copying a param with shape torch.Size([512]) from checkpoint, the shape in current model is torch.Size([2048]).\n\tsize mismatch for layer4.0.downsample.1.running_mean: copying a param with shape torch.Size([512]) from checkpoint, the shape in current model is torch.Size([2048]).\n\tsize mismatch for layer4.0.downsample.1.bias: copying a param with shape torch.Size([512]) from checkpoint, the shape in current model is torch.Size([2048]).\n\tsize mismatch for layer4.1.conv1.weight: copying a param with shape torch.Size([512, 512, 3, 3]) from checkpoint, the shape in current model is torch.Size([512, 2048, 1, 1]).\n\tsize mismatch for layer4.2.conv1.weight: copying a param with shape torch.Size([512, 512, 3, 3]) from checkpoint, the shape in current model is torch.Size([512, 2048, 1, 1]).\n\tsize mismatch for fc.weight: copying a param with shape torch.Size([20, 512]) from checkpoint, the shape in current model is torch.Size([20, 2048])."
     ]
    },
    {
     "ename": "NameError",
     "evalue": "name 'train' is not defined",
     "output_type": "error",
     "traceback": [
      "\u001b[1;31m---------------------------------------------------------------------------\u001b[0m",
      "\u001b[1;31mNameError\u001b[0m                                 Traceback (most recent call last)",
      "\u001b[1;32m<ipython-input-5-958c031fde3a>\u001b[0m in \u001b[0;36m<module>\u001b[1;34m()\u001b[0m\n\u001b[0;32m      2\u001b[0m \u001b[1;33m\u001b[0m\u001b[0m\n\u001b[0;32m      3\u001b[0m \u001b[1;32mfor\u001b[0m \u001b[0mepoch\u001b[0m \u001b[1;32min\u001b[0m \u001b[0mrange\u001b[0m\u001b[1;33m(\u001b[0m\u001b[1;36m1\u001b[0m\u001b[1;33m,\u001b[0m \u001b[0margs\u001b[0m\u001b[1;33m.\u001b[0m\u001b[0mepochs\u001b[0m \u001b[1;33m+\u001b[0m \u001b[1;36m1\u001b[0m\u001b[1;33m)\u001b[0m\u001b[1;33m:\u001b[0m\u001b[1;33m\u001b[0m\u001b[0m\n\u001b[1;32m----> 4\u001b[1;33m     \u001b[0mtrain\u001b[0m\u001b[1;33m(\u001b[0m\u001b[0mepoch\u001b[0m\u001b[1;33m)\u001b[0m\u001b[1;33m\u001b[0m\u001b[0m\n\u001b[0m\u001b[0;32m      5\u001b[0m     \u001b[0mvalidation\u001b[0m\u001b[1;33m(\u001b[0m\u001b[1;33m)\u001b[0m\u001b[1;33m\u001b[0m\u001b[0m\n\u001b[0;32m      6\u001b[0m     \u001b[0mmodel_file\u001b[0m \u001b[1;33m=\u001b[0m \u001b[0margs\u001b[0m\u001b[1;33m.\u001b[0m\u001b[0mexperiment\u001b[0m \u001b[1;33m+\u001b[0m \u001b[1;34m'/model_'\u001b[0m \u001b[1;33m+\u001b[0m \u001b[0mstr\u001b[0m\u001b[1;33m(\u001b[0m\u001b[0mepoch\u001b[0m\u001b[1;33m)\u001b[0m \u001b[1;33m+\u001b[0m \u001b[1;34m'.pth'\u001b[0m\u001b[1;33m\u001b[0m\u001b[0m\n",
      "\u001b[1;31mNameError\u001b[0m: name 'train' is not defined"
     ]
    }
   ],
   "source": [
    "%run main.py --epochs=5 --cgpu='CPU'\n",
    "\n",
    "for epoch in range(1, args.epochs + 1):\n",
    "    train(epoch)\n",
    "    validation()\n",
    "    model_file = args.experiment + '/model_' + str(epoch) + '.pth'\n",
    "    torch.save(model.state_dict(), model_file)\n",
    "    print('Saved model to ' + model_file + '. You can run `python evaluate.py --model ' + model_file + '` to generate the Kaggle formatted csv file\\n')\n"
   ]
  },
  {
   "cell_type": "markdown",
   "metadata": {},
   "source": [
    "### Idea 1 : Expanding the database\n"
   ]
  },
  {
   "cell_type": "code",
   "execution_count": 19,
   "metadata": {},
   "outputs": [
    {
     "name": "stdout",
     "output_type": "stream",
     "text": [
      "Using CPU\n"
     ]
    }
   ],
   "source": [
    "%run main.py --epochs=10"
   ]
  },
  {
   "cell_type": "code",
   "execution_count": 20,
   "metadata": {},
   "outputs": [
    {
     "name": "stdout",
     "output_type": "stream",
     "text": [
      "Train Epoch: 1 [0/2164 (0%)]\tLoss: 2.988611\n",
      "Train Epoch: 1 [640/2164 (29%)]\tLoss: 2.980144\n",
      "Train Epoch: 1 [1280/2164 (59%)]\tLoss: 3.002228\n",
      "Train Epoch: 1 [1920/2164 (88%)]\tLoss: 2.987844\n",
      "\n",
      "Validation set: Average loss: 0.0578, Accuracy: 11/103 (11%)\n",
      "Saved model to experiment/model_1.pth. You can run `python evaluate.py --model experiment/model_1.pth` to generate the Kaggle formatted csv file\n",
      "\n",
      "Train Epoch: 2 [0/2164 (0%)]\tLoss: 2.978810\n",
      "Train Epoch: 2 [640/2164 (29%)]\tLoss: 2.912117\n",
      "Train Epoch: 2 [1280/2164 (59%)]\tLoss: 2.784866\n",
      "Train Epoch: 2 [1920/2164 (88%)]\tLoss: 2.844584\n",
      "\n",
      "Validation set: Average loss: 0.0532, Accuracy: 14/103 (14%)\n",
      "Saved model to experiment/model_2.pth. You can run `python evaluate.py --model experiment/model_2.pth` to generate the Kaggle formatted csv file\n",
      "\n",
      "Train Epoch: 3 [0/2164 (0%)]\tLoss: 2.718374\n",
      "Train Epoch: 3 [640/2164 (29%)]\tLoss: 2.841185\n",
      "Train Epoch: 3 [1280/2164 (59%)]\tLoss: 2.791929\n",
      "Train Epoch: 3 [1920/2164 (88%)]\tLoss: 2.853286\n",
      "\n",
      "Validation set: Average loss: 0.0519, Accuracy: 19/103 (18%)\n",
      "Saved model to experiment/model_3.pth. You can run `python evaluate.py --model experiment/model_3.pth` to generate the Kaggle formatted csv file\n",
      "\n",
      "Train Epoch: 4 [0/2164 (0%)]\tLoss: 2.709709\n",
      "Train Epoch: 4 [640/2164 (29%)]\tLoss: 2.700420\n",
      "Train Epoch: 4 [1280/2164 (59%)]\tLoss: 2.692318\n",
      "Train Epoch: 4 [1920/2164 (88%)]\tLoss: 2.492675\n",
      "\n",
      "Validation set: Average loss: 0.0479, Accuracy: 18/103 (17%)\n",
      "Saved model to experiment/model_4.pth. You can run `python evaluate.py --model experiment/model_4.pth` to generate the Kaggle formatted csv file\n",
      "\n",
      "Train Epoch: 5 [0/2164 (0%)]\tLoss: 2.581438\n",
      "Train Epoch: 5 [640/2164 (29%)]\tLoss: 2.562902\n",
      "Train Epoch: 5 [1280/2164 (59%)]\tLoss: 2.509160\n",
      "Train Epoch: 5 [1920/2164 (88%)]\tLoss: 2.428314\n",
      "\n",
      "Validation set: Average loss: 0.0436, Accuracy: 28/103 (27%)\n",
      "Saved model to experiment/model_5.pth. You can run `python evaluate.py --model experiment/model_5.pth` to generate the Kaggle formatted csv file\n",
      "\n",
      "Train Epoch: 6 [0/2164 (0%)]\tLoss: 2.611264\n",
      "Train Epoch: 6 [640/2164 (29%)]\tLoss: 2.731453\n",
      "Train Epoch: 6 [1280/2164 (59%)]\tLoss: 2.163074\n",
      "Train Epoch: 6 [1920/2164 (88%)]\tLoss: 2.730052\n",
      "\n",
      "Validation set: Average loss: 0.0541, Accuracy: 17/103 (17%)\n",
      "Saved model to experiment/model_6.pth. You can run `python evaluate.py --model experiment/model_6.pth` to generate the Kaggle formatted csv file\n",
      "\n",
      "Train Epoch: 7 [0/2164 (0%)]\tLoss: 2.506897\n",
      "Train Epoch: 7 [640/2164 (29%)]\tLoss: 2.777781\n",
      "Train Epoch: 7 [1280/2164 (59%)]\tLoss: 2.610655\n",
      "Train Epoch: 7 [1920/2164 (88%)]\tLoss: 2.590674\n",
      "\n",
      "Validation set: Average loss: 0.0506, Accuracy: 16/103 (16%)\n",
      "Saved model to experiment/model_7.pth. You can run `python evaluate.py --model experiment/model_7.pth` to generate the Kaggle formatted csv file\n",
      "\n",
      "Train Epoch: 8 [0/2164 (0%)]\tLoss: 2.439919\n",
      "Train Epoch: 8 [640/2164 (29%)]\tLoss: 2.194128\n",
      "Train Epoch: 8 [1280/2164 (59%)]\tLoss: 2.424799\n",
      "Train Epoch: 8 [1920/2164 (88%)]\tLoss: 2.284643\n",
      "\n",
      "Validation set: Average loss: 0.0464, Accuracy: 23/103 (22%)\n",
      "Saved model to experiment/model_8.pth. You can run `python evaluate.py --model experiment/model_8.pth` to generate the Kaggle formatted csv file\n",
      "\n",
      "Train Epoch: 9 [0/2164 (0%)]\tLoss: 2.362431\n",
      "Train Epoch: 9 [640/2164 (29%)]\tLoss: 2.228331\n",
      "Train Epoch: 9 [1280/2164 (59%)]\tLoss: 2.317797\n",
      "Train Epoch: 9 [1920/2164 (88%)]\tLoss: 2.212495\n",
      "\n",
      "Validation set: Average loss: 0.0436, Accuracy: 25/103 (24%)\n",
      "Saved model to experiment/model_9.pth. You can run `python evaluate.py --model experiment/model_9.pth` to generate the Kaggle formatted csv file\n",
      "\n",
      "Train Epoch: 10 [0/2164 (0%)]\tLoss: 2.123047\n",
      "Train Epoch: 10 [640/2164 (29%)]\tLoss: 2.214191\n",
      "Train Epoch: 10 [1280/2164 (59%)]\tLoss: 2.290688\n",
      "Train Epoch: 10 [1920/2164 (88%)]\tLoss: 2.028552\n",
      "\n",
      "Validation set: Average loss: 0.0543, Accuracy: 21/103 (20%)\n",
      "Saved model to experiment/model_10.pth. You can run `python evaluate.py --model experiment/model_10.pth` to generate the Kaggle formatted csv file\n",
      "\n"
     ]
    }
   ],
   "source": [
    "for epoch in range(1, args.epochs + 1):\n",
    "    train(epoch)\n",
    "    validation()\n",
    "    model_file = args.experiment + '/model_' + str(epoch) + '.pth'\n",
    "    torch.save(model.state_dict(), model_file)\n",
    "    print('Saved model to ' + model_file + '. You can run `python evaluate.py --model ' + model_file + '` to generate the Kaggle formatted csv file\\n')"
   ]
  }
 ],
 "metadata": {
  "kernelspec": {
   "display_name": "Python 3",
   "language": "python",
   "name": "python3"
  },
  "language_info": {
   "codemirror_mode": {
    "name": "ipython",
    "version": 3
   },
   "file_extension": ".py",
   "mimetype": "text/x-python",
   "name": "python",
   "nbconvert_exporter": "python",
   "pygments_lexer": "ipython3",
   "version": "3.5.4"
  }
 },
 "nbformat": 4,
 "nbformat_minor": 2
}
